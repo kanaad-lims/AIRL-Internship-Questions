{
  "nbformat": 4,
  "nbformat_minor": 0,
  "metadata": {
    "colab": {
      "provenance": [],
      "toc_visible": true,
      "authorship_tag": "ABX9TyO5g3GdhQ/0v7kQYld9NTl+",
      "include_colab_link": true
    },
    "kernelspec": {
      "name": "python3",
      "display_name": "Python 3"
    },
    "language_info": {
      "name": "python"
    }
  },
  "cells": [
    {
      "cell_type": "markdown",
      "metadata": {
        "id": "view-in-github",
        "colab_type": "text"
      },
      "source": [
        "<a href=\"https://colab.research.google.com/github/kanaad-lims/AIRL-Internship-Questions/blob/main/q1.ipynb\" target=\"_parent\"><img src=\"https://colab.research.google.com/assets/colab-badge.svg\" alt=\"Open In Colab\"/></a>"
      ]
    },
    {
      "cell_type": "code",
      "source": [
        "import torch\n",
        "import torch.nn as nn\n",
        "import torch.nn.functional as F\n",
        "from torch.utils.data import DataLoader\n",
        "import torchvision\n",
        "import torchvision.transforms as transforms\n",
        "from torch.optim import AdamW\n",
        "from torch.optim.lr_scheduler import CosineAnnealingLR\n",
        "import numpy as np\n",
        "from tqdm import tqdm\n",
        "\n",
        "torch.manual_seed(42)\n",
        "np.random.seed(42)"
      ],
      "metadata": {
        "id": "qF2I_Bfkx4Jj"
      },
      "execution_count": 30,
      "outputs": []
    },
    {
      "cell_type": "code",
      "source": [
        "class PatchEmbedding(nn.Module):\n",
        "    \"\"\"Split image into patches and embed them.\"\"\"\n",
        "    def __init__(self, img_size=32, patch_size=4, in_channels=3, embed_dim=256):\n",
        "        super().__init__()\n",
        "        self.img_size = img_size\n",
        "        self.patch_size = patch_size\n",
        "        self.n_patches = (img_size // patch_size) ** 2\n",
        "\n",
        "        # Conv layer acts as patch extraction + linear projection\n",
        "        self.proj = nn.Conv2d(in_channels, embed_dim, kernel_size=patch_size, stride=patch_size)\n",
        "\n",
        "    def forward(self, x):\n",
        "        # x: (B, C, H, W) -> (B, embed_dim, n_patches_h, n_patches_w)\n",
        "        x = self.proj(x)\n",
        "        # Flatten: (B, embed_dim, n_patches_h, n_patches_w) -> (B, embed_dim, n_patches)\n",
        "        x = x.flatten(2)\n",
        "        # Transpose: (B, embed_dim, n_patches) -> (B, n_patches, embed_dim)\n",
        "        x = x.transpose(1, 2)\n",
        "        return x"
      ],
      "metadata": {
        "id": "w1ady0yjx4L0"
      },
      "execution_count": 31,
      "outputs": []
    },
    {
      "cell_type": "code",
      "source": [
        "class MultiHeadSelfAttention(nn.Module):\n",
        "    \"\"\"Multi-Head Self Attention mechanism.\"\"\"\n",
        "    def __init__(self, embed_dim=256, n_heads=8, dropout=0.1):\n",
        "        super().__init__()\n",
        "        self.embed_dim = embed_dim\n",
        "        self.n_heads = n_heads\n",
        "        self.head_dim = embed_dim // n_heads\n",
        "        assert embed_dim % n_heads == 0, \"embed_dim must be divisible by n_heads\"\n",
        "\n",
        "        self.qkv = nn.Linear(embed_dim, embed_dim * 3)\n",
        "        self.proj = nn.Linear(embed_dim, embed_dim)\n",
        "        self.dropout = nn.Dropout(dropout)\n",
        "\n",
        "    def forward(self, x):\n",
        "        B, N, C = x.shape\n",
        "\n",
        "        # Generate Q, K, V\n",
        "        qkv = self.qkv(x).reshape(B, N, 3, self.n_heads, self.head_dim)\n",
        "        qkv = qkv.permute(2, 0, 3, 1, 4)  # (3, B, n_heads, N, head_dim)\n",
        "        q, k, v = qkv[0], qkv[1], qkv[2]\n",
        "\n",
        "        # Attention scores\n",
        "        attn = (q @ k.transpose(-2, -1)) * (self.head_dim ** -0.5)\n",
        "        attn = F.softmax(attn, dim=-1)\n",
        "        attn = self.dropout(attn)\n",
        "\n",
        "        # Apply attention to values\n",
        "        x = (attn @ v).transpose(1, 2).reshape(B, N, C)\n",
        "        x = self.proj(x)\n",
        "        x = self.dropout(x)\n",
        "\n",
        "        return x"
      ],
      "metadata": {
        "id": "uWnYKSwXKNbs"
      },
      "execution_count": 32,
      "outputs": []
    },
    {
      "cell_type": "code",
      "source": [
        "class MLP(nn.Module):\n",
        "    \"\"\"Feed-forward network.\"\"\"\n",
        "    def __init__(self, embed_dim=256, hidden_dim=512, dropout=0.1):\n",
        "        super().__init__()\n",
        "        self.fc1 = nn.Linear(embed_dim, hidden_dim)\n",
        "        self.fc2 = nn.Linear(hidden_dim, embed_dim)\n",
        "        self.dropout = nn.Dropout(dropout)\n",
        "\n",
        "    def forward(self, x):\n",
        "        x = self.fc1(x)\n",
        "        x = F.gelu(x)\n",
        "        x = self.dropout(x)\n",
        "        x = self.fc2(x)\n",
        "        x = self.dropout(x)\n",
        "        return x"
      ],
      "metadata": {
        "id": "bsUxZKFZKNjb"
      },
      "execution_count": 33,
      "outputs": []
    },
    {
      "cell_type": "code",
      "source": [
        "class TransformerBlock(nn.Module):\n",
        "    \"\"\"Transformer encoder block with MHSA + MLP.\"\"\"\n",
        "    def __init__(self, embed_dim=256, n_heads=8, mlp_ratio=2, dropout=0.1):\n",
        "        super().__init__()\n",
        "        self.norm1 = nn.LayerNorm(embed_dim)\n",
        "        self.attn = MultiHeadSelfAttention(embed_dim, n_heads, dropout)\n",
        "        self.norm2 = nn.LayerNorm(embed_dim)\n",
        "        self.mlp = MLP(embed_dim, int(embed_dim * mlp_ratio), dropout)\n",
        "\n",
        "    def forward(self, x):\n",
        "        # Residual connections with pre-normalization\n",
        "        x = x + self.attn(self.norm1(x))\n",
        "        x = x + self.mlp(self.norm2(x))\n",
        "        return x"
      ],
      "metadata": {
        "id": "ePK2W9CDKNmQ"
      },
      "execution_count": 34,
      "outputs": []
    },
    {
      "cell_type": "code",
      "source": [
        "class VisionTransformer(nn.Module):\n",
        "    \"\"\"Vision Transformer for image classification.\"\"\"\n",
        "    def __init__(\n",
        "        self,\n",
        "        img_size=32,\n",
        "        patch_size=4,\n",
        "        in_channels=3,\n",
        "        n_classes=10,\n",
        "        embed_dim=256,\n",
        "        depth=6,\n",
        "        n_heads=8,\n",
        "        mlp_ratio=2,\n",
        "        dropout=0.1\n",
        "    ):\n",
        "        super().__init__()\n",
        "\n",
        "        # Patch embedding\n",
        "        self.patch_embed = PatchEmbedding(img_size, patch_size, in_channels, embed_dim)\n",
        "        n_patches = self.patch_embed.n_patches\n",
        "\n",
        "        # CLS token\n",
        "        self.cls_token = nn.Parameter(torch.zeros(1, 1, embed_dim))\n",
        "\n",
        "        # Positional embeddings\n",
        "        self.pos_embed = nn.Parameter(torch.zeros(1, n_patches + 1, embed_dim))\n",
        "        self.pos_drop = nn.Dropout(dropout)\n",
        "\n",
        "        # Transformer blocks\n",
        "        self.blocks = nn.ModuleList([\n",
        "            TransformerBlock(embed_dim, n_heads, mlp_ratio, dropout)\n",
        "            for _ in range(depth)\n",
        "        ])\n",
        "\n",
        "        # Classification head\n",
        "        self.norm = nn.LayerNorm(embed_dim)\n",
        "        self.head = nn.Linear(embed_dim, n_classes)\n",
        "\n",
        "        # Initialize weights\n",
        "        nn.init.trunc_normal_(self.cls_token, std=0.02)\n",
        "        nn.init.trunc_normal_(self.pos_embed, std=0.02)\n",
        "        self.apply(self._init_weights)\n",
        "\n",
        "    def _init_weights(self, m):\n",
        "        if isinstance(m, nn.Linear):\n",
        "            nn.init.trunc_normal_(m.weight, std=0.02)\n",
        "            if m.bias is not None:\n",
        "                nn.init.constant_(m.bias, 0)\n",
        "        elif isinstance(m, nn.LayerNorm):\n",
        "            nn.init.constant_(m.bias, 0)\n",
        "            nn.init.constant_(m.weight, 1.0)\n",
        "\n",
        "    def forward(self, x):\n",
        "        B = x.shape[0]\n",
        "\n",
        "        # Patch embedding\n",
        "        x = self.patch_embed(x)\n",
        "\n",
        "        # Prepend CLS token\n",
        "        cls_tokens = self.cls_token.expand(B, -1, -1)\n",
        "        x = torch.cat([cls_tokens, x], dim=1)\n",
        "\n",
        "        # Add positional embeddings\n",
        "        x = x + self.pos_embed\n",
        "        x = self.pos_drop(x)\n",
        "\n",
        "        # Transformer blocks\n",
        "        for block in self.blocks:\n",
        "            x = block(x)\n",
        "\n",
        "        # Classify from CLS token\n",
        "        x = self.norm(x)\n",
        "        cls_token_final = x[:, 0]\n",
        "        x = self.head(cls_token_final)\n",
        "\n",
        "        return x"
      ],
      "metadata": {
        "id": "RQkPZPqzKNo2"
      },
      "execution_count": 35,
      "outputs": []
    },
    {
      "cell_type": "code",
      "source": [
        "def get_data_loaders(batch_size=128, num_workers=2):\n",
        "    \"\"\"Prepare CIFAR-10 data loaders with augmentation.\"\"\"\n",
        "\n",
        "    # Training transforms with augmentation\n",
        "    transform_train = transforms.Compose([\n",
        "        transforms.RandomCrop(32, padding=4),\n",
        "        transforms.RandomHorizontalFlip(),\n",
        "        transforms.AutoAugment(transforms.AutoAugmentPolicy.CIFAR10),\n",
        "        transforms.ToTensor(),\n",
        "        transforms.Normalize((0.4914, 0.4822, 0.4465), (0.2470, 0.2435, 0.2616)),\n",
        "        transforms.RandomErasing(p=0.25)\n",
        "    ])\n",
        "\n",
        "    # Test transforms (no augmentation)\n",
        "    transform_test = transforms.Compose([\n",
        "        transforms.ToTensor(),\n",
        "        transforms.Normalize((0.4914, 0.4822, 0.4465), (0.2470, 0.2435, 0.2616))\n",
        "    ])\n",
        "\n",
        "    train_dataset = torchvision.datasets.CIFAR10(\n",
        "        root='./data', train=True, download=True, transform=transform_train\n",
        "    )\n",
        "\n",
        "    test_dataset = torchvision.datasets.CIFAR10(\n",
        "        root='./data', train=False, download=True, transform=transform_test\n",
        "    )\n",
        "\n",
        "    train_loader = DataLoader(\n",
        "        train_dataset, batch_size=batch_size, shuffle=True,\n",
        "        num_workers=num_workers, pin_memory=True\n",
        "    )\n",
        "\n",
        "    test_loader = DataLoader(\n",
        "        test_dataset, batch_size=batch_size, shuffle=False,\n",
        "        num_workers=num_workers, pin_memory=True\n",
        "    )\n",
        "\n",
        "    return train_loader, test_loader\n",
        "\n",
        "def train_epoch(model, loader, criterion, optimizer, device):\n",
        "    \"\"\"Train for one epoch.\"\"\"\n",
        "    model.train()\n",
        "    running_loss = 0.0\n",
        "    correct = 0\n",
        "    total = 0\n",
        "\n",
        "    pbar = tqdm(loader, desc='Training')\n",
        "    for inputs, targets in pbar:\n",
        "        inputs, targets = inputs.to(device), targets.to(device)\n",
        "\n",
        "        optimizer.zero_grad()\n",
        "        outputs = model(inputs)\n",
        "        loss = criterion(outputs, targets)\n",
        "        loss.backward()\n",
        "\n",
        "        # Gradient clipping\n",
        "        torch.nn.utils.clip_grad_norm_(model.parameters(), 1.0)\n",
        "\n",
        "        optimizer.step()\n",
        "\n",
        "        running_loss += loss.item()\n",
        "        _, predicted = outputs.max(1)\n",
        "        total += targets.size(0)\n",
        "        correct += predicted.eq(targets).sum().item()\n",
        "\n",
        "        pbar.set_postfix({\n",
        "            'loss': running_loss / (pbar.n + 1),\n",
        "            'acc': 100. * correct / total\n",
        "        })\n",
        "\n",
        "    return running_loss / len(loader), 100. * correct / total\n"
      ],
      "metadata": {
        "id": "eHq3YlKUKNrW"
      },
      "execution_count": 36,
      "outputs": []
    },
    {
      "cell_type": "code",
      "source": [
        "def evaluate(model, loader, criterion, device):\n",
        "    \"\"\"Evaluate model on test set.\"\"\"\n",
        "    model.eval()\n",
        "    running_loss = 0.0\n",
        "    correct = 0\n",
        "    total = 0\n",
        "\n",
        "    with torch.no_grad():\n",
        "        for inputs, targets in tqdm(loader, desc='Evaluating'):\n",
        "            inputs, targets = inputs.to(device), targets.to(device)\n",
        "            outputs = model(inputs)\n",
        "            loss = criterion(outputs, targets)\n",
        "\n",
        "            running_loss += loss.item()\n",
        "            _, predicted = outputs.max(1)\n",
        "            total += targets.size(0)\n",
        "            correct += predicted.eq(targets).sum().item()\n",
        "\n",
        "    return running_loss / len(loader), 100. * correct / total"
      ],
      "metadata": {
        "id": "CKXvjMnSKNt0"
      },
      "execution_count": 37,
      "outputs": []
    },
    {
      "cell_type": "code",
      "source": [
        "def main():\n",
        "    # Configuration\n",
        "    config = {\n",
        "        'img_size': 32,\n",
        "        'patch_size': 4,\n",
        "        'embed_dim': 384,\n",
        "        'depth': 7,\n",
        "        'n_heads': 6,\n",
        "        'mlp_ratio': 3,\n",
        "        'dropout': 0.1,\n",
        "        'batch_size': 128,\n",
        "        'epochs': 200,\n",
        "        'lr': 3e-4,\n",
        "        'weight_decay': 0.05\n",
        "    }\n",
        "\n",
        "    print(\"Configuration:\")\n",
        "    for k, v in config.items():\n",
        "        print(f\"  {k}: {v}\")\n",
        "\n",
        "    # Setup\n",
        "    device = torch.device('cuda' if torch.cuda.is_available() else 'cpu')\n",
        "    print(f\"\\nUsing device: {device}\")\n",
        "\n",
        "    # Data\n",
        "    train_loader, test_loader = get_data_loaders(config['batch_size'])\n",
        "\n",
        "    # Model\n",
        "    model = VisionTransformer(\n",
        "        img_size=config['img_size'],\n",
        "        patch_size=config['patch_size'],\n",
        "        n_classes=10,\n",
        "        embed_dim=config['embed_dim'],\n",
        "        depth=config['depth'],\n",
        "        n_heads=config['n_heads'],\n",
        "        mlp_ratio=config['mlp_ratio'],\n",
        "        dropout=config['dropout']\n",
        "    ).to(device)\n",
        "\n",
        "    print(f\"\\nModel parameters: {sum(p.numel() for p in model.parameters()):,}\")\n",
        "\n",
        "    # Training setup\n",
        "    criterion = nn.CrossEntropyLoss(label_smoothing=0.1)\n",
        "    optimizer = AdamW(model.parameters(), lr=config['lr'], weight_decay=config['weight_decay'])\n",
        "    scheduler = CosineAnnealingLR(optimizer, T_max=config['epochs'])\n",
        "\n",
        "    # Training loop\n",
        "    best_acc = 0.0\n",
        "\n",
        "    for epoch in range(config['epochs']):\n",
        "        print(f\"\\nEpoch {epoch+1}/{config['epochs']}\")\n",
        "\n",
        "        train_loss, train_acc = train_epoch(model, train_loader, criterion, optimizer, device)\n",
        "        test_loss, test_acc = evaluate(model, test_loader, criterion, device)\n",
        "        scheduler.step()\n",
        "\n",
        "        print(f\"Train Loss: {train_loss:.4f}, Train Acc: {train_acc:.2f}%\")\n",
        "        print(f\"Test Loss: {test_loss:.4f}, Test Acc: {test_acc:.2f}%\")\n",
        "\n",
        "        if test_acc > best_acc:\n",
        "            best_acc = test_acc\n",
        "            torch.save(model.state_dict(), 'best_vit_cifar10.pth')\n",
        "            print(f\"✓ Best model saved! (Acc: {best_acc:.2f}%)\")\n",
        "\n",
        "    print(f\"\\n{'='*50}\")\n",
        "    print(f\"Training complete!\")\n",
        "    print(f\"Best test accuracy: {best_acc:.2f}%\")\n",
        "    print(f\"{'='*50}\")\n",
        "\n",
        "if __name__ == '__main__':\n",
        "    main()"
      ],
      "metadata": {
        "colab": {
          "base_uri": "https://localhost:8080/"
        },
        "id": "Q3PWQ70eKly6",
        "outputId": "f30369bd-da27-4558-f65f-fe76ac06fd9f"
      },
      "execution_count": null,
      "outputs": [
        {
          "output_type": "stream",
          "name": "stdout",
          "text": [
            "Configuration:\n",
            "  img_size: 32\n",
            "  patch_size: 4\n",
            "  embed_dim: 384\n",
            "  depth: 7\n",
            "  n_heads: 6\n",
            "  mlp_ratio: 3\n",
            "  dropout: 0.1\n",
            "  batch_size: 128\n",
            "  epochs: 200\n",
            "  lr: 0.0003\n",
            "  weight_decay: 0.05\n",
            "\n",
            "Using device: cuda\n",
            "\n",
            "Model parameters: 10,402,954\n",
            "\n",
            "Epoch 1/200\n"
          ]
        },
        {
          "output_type": "stream",
          "name": "stderr",
          "text": [
            "Training: 100%|██████████| 391/391 [01:17<00:00,  5.05it/s, loss=2.07, acc=24.9]\n",
            "Evaluating: 100%|██████████| 79/79 [00:04<00:00, 15.90it/s]\n"
          ]
        },
        {
          "output_type": "stream",
          "name": "stdout",
          "text": [
            "Train Loss: 2.0720, Train Acc: 24.88%\n",
            "Test Loss: 1.8015, Test Acc: 37.41%\n",
            "✓ Best model saved! (Acc: 37.41%)\n",
            "\n",
            "Epoch 2/200\n"
          ]
        },
        {
          "output_type": "stream",
          "name": "stderr",
          "text": [
            "Training: 100%|██████████| 391/391 [01:16<00:00,  5.09it/s, loss=1.89, acc=34.9]\n",
            "Evaluating: 100%|██████████| 79/79 [00:04<00:00, 15.97it/s]\n"
          ]
        },
        {
          "output_type": "stream",
          "name": "stdout",
          "text": [
            "Train Loss: 1.8860, Train Acc: 34.93%\n",
            "Test Loss: 1.6705, Test Acc: 45.14%\n",
            "✓ Best model saved! (Acc: 45.14%)\n",
            "\n",
            "Epoch 3/200\n"
          ]
        },
        {
          "output_type": "stream",
          "name": "stderr",
          "text": [
            "Training: 100%|██████████| 391/391 [01:16<00:00,  5.09it/s, loss=1.8, acc=39.3]\n",
            "Evaluating: 100%|██████████| 79/79 [00:05<00:00, 15.59it/s]\n"
          ]
        },
        {
          "output_type": "stream",
          "name": "stdout",
          "text": [
            "Train Loss: 1.8016, Train Acc: 39.25%\n",
            "Test Loss: 1.5999, Test Acc: 48.51%\n",
            "✓ Best model saved! (Acc: 48.51%)\n",
            "\n",
            "Epoch 4/200\n"
          ]
        },
        {
          "output_type": "stream",
          "name": "stderr",
          "text": [
            "Training: 100%|██████████| 391/391 [01:16<00:00,  5.09it/s, loss=1.76, acc=41.4]\n",
            "Evaluating: 100%|██████████| 79/79 [00:05<00:00, 15.54it/s]\n"
          ]
        },
        {
          "output_type": "stream",
          "name": "stdout",
          "text": [
            "Train Loss: 1.7595, Train Acc: 41.42%\n",
            "Test Loss: 1.5279, Test Acc: 51.82%\n",
            "✓ Best model saved! (Acc: 51.82%)\n",
            "\n",
            "Epoch 5/200\n"
          ]
        },
        {
          "output_type": "stream",
          "name": "stderr",
          "text": [
            "Training: 100%|██████████| 391/391 [01:16<00:00,  5.08it/s, loss=1.72, acc=43.5]\n",
            "Evaluating: 100%|██████████| 79/79 [00:04<00:00, 15.93it/s]\n"
          ]
        },
        {
          "output_type": "stream",
          "name": "stdout",
          "text": [
            "Train Loss: 1.7208, Train Acc: 43.51%\n",
            "Test Loss: 1.4790, Test Acc: 54.16%\n",
            "✓ Best model saved! (Acc: 54.16%)\n",
            "\n",
            "Epoch 6/200\n"
          ]
        },
        {
          "output_type": "stream",
          "name": "stderr",
          "text": [
            "Training: 100%|██████████| 391/391 [01:17<00:00,  5.08it/s, loss=1.69, acc=44.9]\n",
            "Evaluating: 100%|██████████| 79/79 [00:04<00:00, 15.80it/s]\n"
          ]
        },
        {
          "output_type": "stream",
          "name": "stdout",
          "text": [
            "Train Loss: 1.6904, Train Acc: 44.91%\n",
            "Test Loss: 1.4729, Test Acc: 55.26%\n",
            "✓ Best model saved! (Acc: 55.26%)\n",
            "\n",
            "Epoch 7/200\n"
          ]
        },
        {
          "output_type": "stream",
          "name": "stderr",
          "text": [
            "Training: 100%|██████████| 391/391 [01:17<00:00,  5.07it/s, loss=1.66, acc=46.5]\n",
            "Evaluating: 100%|██████████| 79/79 [00:05<00:00, 15.36it/s]\n"
          ]
        },
        {
          "output_type": "stream",
          "name": "stdout",
          "text": [
            "Train Loss: 1.6590, Train Acc: 46.52%\n",
            "Test Loss: 1.4568, Test Acc: 56.03%\n",
            "✓ Best model saved! (Acc: 56.03%)\n",
            "\n",
            "Epoch 8/200\n"
          ]
        },
        {
          "output_type": "stream",
          "name": "stderr",
          "text": [
            "Training: 100%|██████████| 391/391 [01:16<00:00,  5.09it/s, loss=1.64, acc=47.1]\n",
            "Evaluating: 100%|██████████| 79/79 [00:04<00:00, 15.87it/s]\n"
          ]
        },
        {
          "output_type": "stream",
          "name": "stdout",
          "text": [
            "Train Loss: 1.6397, Train Acc: 47.05%\n",
            "Test Loss: 1.4015, Test Acc: 58.79%\n",
            "✓ Best model saved! (Acc: 58.79%)\n",
            "\n",
            "Epoch 9/200\n"
          ]
        },
        {
          "output_type": "stream",
          "name": "stderr",
          "text": [
            "Training: 100%|██████████| 391/391 [01:17<00:00,  5.07it/s, loss=1.61, acc=48.8]\n",
            "Evaluating: 100%|██████████| 79/79 [00:05<00:00, 15.76it/s]\n"
          ]
        },
        {
          "output_type": "stream",
          "name": "stdout",
          "text": [
            "Train Loss: 1.6109, Train Acc: 48.84%\n",
            "Test Loss: 1.3782, Test Acc: 59.19%\n",
            "✓ Best model saved! (Acc: 59.19%)\n",
            "\n",
            "Epoch 10/200\n"
          ]
        },
        {
          "output_type": "stream",
          "name": "stderr",
          "text": [
            "Training: 100%|██████████| 391/391 [01:17<00:00,  5.07it/s, loss=1.58, acc=50.2]\n",
            "Evaluating: 100%|██████████| 79/79 [00:05<00:00, 15.63it/s]\n"
          ]
        },
        {
          "output_type": "stream",
          "name": "stdout",
          "text": [
            "Train Loss: 1.5832, Train Acc: 50.25%\n",
            "Test Loss: 1.3524, Test Acc: 61.10%\n",
            "✓ Best model saved! (Acc: 61.10%)\n",
            "\n",
            "Epoch 11/200\n"
          ]
        },
        {
          "output_type": "stream",
          "name": "stderr",
          "text": [
            "Training: 100%|██████████| 391/391 [01:16<00:00,  5.08it/s, loss=1.56, acc=51.3]\n",
            "Evaluating: 100%|██████████| 79/79 [00:04<00:00, 15.86it/s]\n"
          ]
        },
        {
          "output_type": "stream",
          "name": "stdout",
          "text": [
            "Train Loss: 1.5607, Train Acc: 51.32%\n",
            "Test Loss: 1.3091, Test Acc: 61.76%\n",
            "✓ Best model saved! (Acc: 61.76%)\n",
            "\n",
            "Epoch 12/200\n"
          ]
        },
        {
          "output_type": "stream",
          "name": "stderr",
          "text": [
            "Training: 100%|██████████| 391/391 [01:16<00:00,  5.08it/s, loss=1.54, acc=52.4]\n",
            "Evaluating: 100%|██████████| 79/79 [00:04<00:00, 15.92it/s]\n"
          ]
        },
        {
          "output_type": "stream",
          "name": "stdout",
          "text": [
            "Train Loss: 1.5403, Train Acc: 52.39%\n",
            "Test Loss: 1.2925, Test Acc: 63.14%\n",
            "✓ Best model saved! (Acc: 63.14%)\n",
            "\n",
            "Epoch 13/200\n"
          ]
        },
        {
          "output_type": "stream",
          "name": "stderr",
          "text": [
            "Training: 100%|██████████| 391/391 [01:17<00:00,  5.08it/s, loss=1.52, acc=53.1]\n",
            "Evaluating: 100%|██████████| 79/79 [00:05<00:00, 15.63it/s]\n"
          ]
        },
        {
          "output_type": "stream",
          "name": "stdout",
          "text": [
            "Train Loss: 1.5190, Train Acc: 53.14%\n",
            "Test Loss: 1.2900, Test Acc: 63.34%\n",
            "✓ Best model saved! (Acc: 63.34%)\n",
            "\n",
            "Epoch 14/200\n"
          ]
        },
        {
          "output_type": "stream",
          "name": "stderr",
          "text": [
            "Training: 100%|██████████| 391/391 [01:16<00:00,  5.08it/s, loss=1.5, acc=54.1]\n",
            "Evaluating: 100%|██████████| 79/79 [00:04<00:00, 15.92it/s]\n"
          ]
        },
        {
          "output_type": "stream",
          "name": "stdout",
          "text": [
            "Train Loss: 1.5029, Train Acc: 54.08%\n",
            "Test Loss: 1.2598, Test Acc: 65.17%\n",
            "✓ Best model saved! (Acc: 65.17%)\n",
            "\n",
            "Epoch 15/200\n"
          ]
        },
        {
          "output_type": "stream",
          "name": "stderr",
          "text": [
            "Training: 100%|██████████| 391/391 [01:17<00:00,  5.07it/s, loss=1.47, acc=55.5]\n",
            "Evaluating: 100%|██████████| 79/79 [00:04<00:00, 15.87it/s]\n"
          ]
        },
        {
          "output_type": "stream",
          "name": "stdout",
          "text": [
            "Train Loss: 1.4726, Train Acc: 55.53%\n",
            "Test Loss: 1.2507, Test Acc: 65.50%\n",
            "✓ Best model saved! (Acc: 65.50%)\n",
            "\n",
            "Epoch 16/200\n"
          ]
        },
        {
          "output_type": "stream",
          "name": "stderr",
          "text": [
            "Training: 100%|██████████| 391/391 [01:17<00:00,  5.08it/s, loss=1.46, acc=56.1]\n",
            "Evaluating: 100%|██████████| 79/79 [00:05<00:00, 15.73it/s]\n"
          ]
        },
        {
          "output_type": "stream",
          "name": "stdout",
          "text": [
            "Train Loss: 1.4623, Train Acc: 56.11%\n",
            "Test Loss: 1.2061, Test Acc: 67.24%\n",
            "✓ Best model saved! (Acc: 67.24%)\n",
            "\n",
            "Epoch 17/200\n"
          ]
        },
        {
          "output_type": "stream",
          "name": "stderr",
          "text": [
            "Training: 100%|██████████| 391/391 [01:17<00:00,  5.06it/s, loss=1.44, acc=56.9]\n",
            "Evaluating: 100%|██████████| 79/79 [00:05<00:00, 15.35it/s]\n"
          ]
        },
        {
          "output_type": "stream",
          "name": "stdout",
          "text": [
            "Train Loss: 1.4407, Train Acc: 56.90%\n",
            "Test Loss: 1.1833, Test Acc: 68.20%\n",
            "✓ Best model saved! (Acc: 68.20%)\n",
            "\n",
            "Epoch 18/200\n"
          ]
        },
        {
          "output_type": "stream",
          "name": "stderr",
          "text": [
            "Training: 100%|██████████| 391/391 [01:16<00:00,  5.08it/s, loss=1.42, acc=57.7]\n",
            "Evaluating: 100%|██████████| 79/79 [00:04<00:00, 15.92it/s]\n"
          ]
        },
        {
          "output_type": "stream",
          "name": "stdout",
          "text": [
            "Train Loss: 1.4248, Train Acc: 57.74%\n",
            "Test Loss: 1.1752, Test Acc: 69.28%\n",
            "✓ Best model saved! (Acc: 69.28%)\n",
            "\n",
            "Epoch 19/200\n"
          ]
        },
        {
          "output_type": "stream",
          "name": "stderr",
          "text": [
            "Training: 100%|██████████| 391/391 [01:16<00:00,  5.10it/s, loss=1.41, acc=58.6]\n",
            "Evaluating: 100%|██████████| 79/79 [00:04<00:00, 15.80it/s]\n"
          ]
        },
        {
          "output_type": "stream",
          "name": "stdout",
          "text": [
            "Train Loss: 1.4083, Train Acc: 58.57%\n",
            "Test Loss: 1.1764, Test Acc: 68.49%\n",
            "\n",
            "Epoch 20/200\n"
          ]
        },
        {
          "output_type": "stream",
          "name": "stderr",
          "text": [
            "Training: 100%|██████████| 391/391 [01:16<00:00,  5.09it/s, loss=1.39, acc=59.5]\n",
            "Evaluating: 100%|██████████| 79/79 [00:05<00:00, 15.69it/s]\n"
          ]
        },
        {
          "output_type": "stream",
          "name": "stdout",
          "text": [
            "Train Loss: 1.3865, Train Acc: 59.46%\n",
            "Test Loss: 1.1437, Test Acc: 70.58%\n",
            "✓ Best model saved! (Acc: 70.58%)\n",
            "\n",
            "Epoch 21/200\n"
          ]
        },
        {
          "output_type": "stream",
          "name": "stderr",
          "text": [
            "Training: 100%|██████████| 391/391 [01:16<00:00,  5.10it/s, loss=1.37, acc=60.2]\n",
            "Evaluating: 100%|██████████| 79/79 [00:04<00:00, 15.82it/s]\n"
          ]
        },
        {
          "output_type": "stream",
          "name": "stdout",
          "text": [
            "Train Loss: 1.3709, Train Acc: 60.16%\n",
            "Test Loss: 1.1201, Test Acc: 71.12%\n",
            "✓ Best model saved! (Acc: 71.12%)\n",
            "\n",
            "Epoch 22/200\n"
          ]
        },
        {
          "output_type": "stream",
          "name": "stderr",
          "text": [
            "Training: 100%|██████████| 391/391 [01:16<00:00,  5.10it/s, loss=1.36, acc=60.8]\n",
            "Evaluating: 100%|██████████| 79/79 [00:04<00:00, 15.93it/s]\n"
          ]
        },
        {
          "output_type": "stream",
          "name": "stdout",
          "text": [
            "Train Loss: 1.3602, Train Acc: 60.77%\n",
            "Test Loss: 1.1439, Test Acc: 70.52%\n",
            "\n",
            "Epoch 23/200\n"
          ]
        },
        {
          "output_type": "stream",
          "name": "stderr",
          "text": [
            "Training: 100%|██████████| 391/391 [01:16<00:00,  5.09it/s, loss=1.35, acc=61.6]\n",
            "Evaluating: 100%|██████████| 79/79 [00:05<00:00, 15.60it/s]\n"
          ]
        },
        {
          "output_type": "stream",
          "name": "stdout",
          "text": [
            "Train Loss: 1.3467, Train Acc: 61.58%\n",
            "Test Loss: 1.0959, Test Acc: 72.75%\n",
            "✓ Best model saved! (Acc: 72.75%)\n",
            "\n",
            "Epoch 24/200\n"
          ]
        },
        {
          "output_type": "stream",
          "name": "stderr",
          "text": [
            "Training: 100%|██████████| 391/391 [01:17<00:00,  5.08it/s, loss=1.33, acc=62.2]\n",
            "Evaluating: 100%|██████████| 79/79 [00:05<00:00, 15.58it/s]\n"
          ]
        },
        {
          "output_type": "stream",
          "name": "stdout",
          "text": [
            "Train Loss: 1.3302, Train Acc: 62.24%\n",
            "Test Loss: 1.1069, Test Acc: 73.03%\n",
            "✓ Best model saved! (Acc: 73.03%)\n",
            "\n",
            "Epoch 25/200\n"
          ]
        },
        {
          "output_type": "stream",
          "name": "stderr",
          "text": [
            "Training: 100%|██████████| 391/391 [01:16<00:00,  5.09it/s, loss=1.32, acc=62.7]\n",
            "Evaluating: 100%|██████████| 79/79 [00:04<00:00, 15.90it/s]\n"
          ]
        },
        {
          "output_type": "stream",
          "name": "stdout",
          "text": [
            "Train Loss: 1.3175, Train Acc: 62.71%\n",
            "Test Loss: 1.0764, Test Acc: 74.06%\n",
            "✓ Best model saved! (Acc: 74.06%)\n",
            "\n",
            "Epoch 26/200\n"
          ]
        },
        {
          "output_type": "stream",
          "name": "stderr",
          "text": [
            "Training: 100%|██████████| 391/391 [01:16<00:00,  5.08it/s, loss=1.3, acc=63.6]\n",
            "Evaluating: 100%|██████████| 79/79 [00:05<00:00, 15.59it/s]\n"
          ]
        },
        {
          "output_type": "stream",
          "name": "stdout",
          "text": [
            "Train Loss: 1.3005, Train Acc: 63.64%\n",
            "Test Loss: 1.1038, Test Acc: 72.96%\n",
            "\n",
            "Epoch 27/200\n"
          ]
        },
        {
          "output_type": "stream",
          "name": "stderr",
          "text": [
            "Training: 100%|██████████| 391/391 [01:17<00:00,  5.06it/s, loss=1.29, acc=64.1]\n",
            "Evaluating: 100%|██████████| 79/79 [00:05<00:00, 15.35it/s]\n"
          ]
        },
        {
          "output_type": "stream",
          "name": "stdout",
          "text": [
            "Train Loss: 1.2900, Train Acc: 64.09%\n",
            "Test Loss: 1.0665, Test Acc: 74.27%\n",
            "✓ Best model saved! (Acc: 74.27%)\n",
            "\n",
            "Epoch 28/200\n"
          ]
        },
        {
          "output_type": "stream",
          "name": "stderr",
          "text": [
            "Training: 100%|██████████| 391/391 [01:17<00:00,  5.08it/s, loss=1.28, acc=64.4]\n",
            "Evaluating: 100%|██████████| 79/79 [00:04<00:00, 15.86it/s]\n"
          ]
        },
        {
          "output_type": "stream",
          "name": "stdout",
          "text": [
            "Train Loss: 1.2782, Train Acc: 64.39%\n",
            "Test Loss: 1.0810, Test Acc: 73.51%\n",
            "\n",
            "Epoch 29/200\n"
          ]
        },
        {
          "output_type": "stream",
          "name": "stderr",
          "text": [
            "Training: 100%|██████████| 391/391 [01:16<00:00,  5.08it/s, loss=1.27, acc=65]\n",
            "Evaluating: 100%|██████████| 79/79 [00:05<00:00, 15.78it/s]\n"
          ]
        },
        {
          "output_type": "stream",
          "name": "stdout",
          "text": [
            "Train Loss: 1.2672, Train Acc: 64.98%\n",
            "Test Loss: 1.0571, Test Acc: 74.38%\n",
            "✓ Best model saved! (Acc: 74.38%)\n",
            "\n",
            "Epoch 30/200\n"
          ]
        },
        {
          "output_type": "stream",
          "name": "stderr",
          "text": [
            "Training: 100%|██████████| 391/391 [01:17<00:00,  5.07it/s, loss=1.25, acc=65.7]\n",
            "Evaluating: 100%|██████████| 79/79 [00:05<00:00, 14.78it/s]\n"
          ]
        },
        {
          "output_type": "stream",
          "name": "stdout",
          "text": [
            "Train Loss: 1.2527, Train Acc: 65.73%\n",
            "Test Loss: 1.0247, Test Acc: 76.20%\n",
            "✓ Best model saved! (Acc: 76.20%)\n",
            "\n",
            "Epoch 31/200\n"
          ]
        },
        {
          "output_type": "stream",
          "name": "stderr",
          "text": [
            "Training: 100%|██████████| 391/391 [01:17<00:00,  5.07it/s, loss=1.25, acc=66.1]\n",
            "Evaluating: 100%|██████████| 79/79 [00:05<00:00, 15.61it/s]\n"
          ]
        },
        {
          "output_type": "stream",
          "name": "stdout",
          "text": [
            "Train Loss: 1.2473, Train Acc: 66.12%\n",
            "Test Loss: 1.0128, Test Acc: 76.96%\n",
            "✓ Best model saved! (Acc: 76.96%)\n",
            "\n",
            "Epoch 32/200\n"
          ]
        },
        {
          "output_type": "stream",
          "name": "stderr",
          "text": [
            "Training: 100%|██████████| 391/391 [01:16<00:00,  5.09it/s, loss=1.24, acc=66.8]\n",
            "Evaluating: 100%|██████████| 79/79 [00:04<00:00, 15.92it/s]\n"
          ]
        },
        {
          "output_type": "stream",
          "name": "stdout",
          "text": [
            "Train Loss: 1.2351, Train Acc: 66.77%\n",
            "Test Loss: 1.0424, Test Acc: 75.46%\n",
            "\n",
            "Epoch 33/200\n"
          ]
        },
        {
          "output_type": "stream",
          "name": "stderr",
          "text": [
            "Training: 100%|██████████| 391/391 [01:16<00:00,  5.09it/s, loss=1.22, acc=67.1]\n",
            "Evaluating: 100%|██████████| 79/79 [00:05<00:00, 15.65it/s]\n"
          ]
        },
        {
          "output_type": "stream",
          "name": "stdout",
          "text": [
            "Train Loss: 1.2249, Train Acc: 67.06%\n",
            "Test Loss: 0.9988, Test Acc: 77.47%\n",
            "✓ Best model saved! (Acc: 77.47%)\n",
            "\n",
            "Epoch 34/200\n"
          ]
        },
        {
          "output_type": "stream",
          "name": "stderr",
          "text": [
            "Training: 100%|██████████| 391/391 [01:16<00:00,  5.08it/s, loss=1.22, acc=67.7]\n",
            "Evaluating: 100%|██████████| 79/79 [00:05<00:00, 15.62it/s]\n"
          ]
        },
        {
          "output_type": "stream",
          "name": "stdout",
          "text": [
            "Train Loss: 1.2163, Train Acc: 67.67%\n",
            "Test Loss: 1.0113, Test Acc: 76.70%\n",
            "\n",
            "Epoch 35/200\n"
          ]
        },
        {
          "output_type": "stream",
          "name": "stderr",
          "text": [
            "Training: 100%|██████████| 391/391 [01:16<00:00,  5.09it/s, loss=1.21, acc=67.7]\n",
            "Evaluating: 100%|██████████| 79/79 [00:04<00:00, 15.91it/s]\n"
          ]
        },
        {
          "output_type": "stream",
          "name": "stdout",
          "text": [
            "Train Loss: 1.2117, Train Acc: 67.73%\n",
            "Test Loss: 0.9820, Test Acc: 78.55%\n",
            "✓ Best model saved! (Acc: 78.55%)\n",
            "\n",
            "Epoch 36/200\n"
          ]
        },
        {
          "output_type": "stream",
          "name": "stderr",
          "text": [
            "Training: 100%|██████████| 391/391 [01:16<00:00,  5.08it/s, loss=1.2, acc=68.3]\n",
            "Evaluating: 100%|██████████| 79/79 [00:04<00:00, 15.82it/s]\n"
          ]
        },
        {
          "output_type": "stream",
          "name": "stdout",
          "text": [
            "Train Loss: 1.1992, Train Acc: 68.34%\n",
            "Test Loss: 1.0043, Test Acc: 77.30%\n",
            "\n",
            "Epoch 37/200\n"
          ]
        },
        {
          "output_type": "stream",
          "name": "stderr",
          "text": [
            "Training: 100%|██████████| 391/391 [01:17<00:00,  5.05it/s, loss=1.2, acc=68.5]\n",
            "Evaluating: 100%|██████████| 79/79 [00:05<00:00, 15.47it/s]\n"
          ]
        },
        {
          "output_type": "stream",
          "name": "stdout",
          "text": [
            "Train Loss: 1.1961, Train Acc: 68.48%\n",
            "Test Loss: 0.9785, Test Acc: 78.60%\n",
            "✓ Best model saved! (Acc: 78.60%)\n",
            "\n",
            "Epoch 38/200\n"
          ]
        },
        {
          "output_type": "stream",
          "name": "stderr",
          "text": [
            "Training: 100%|██████████| 391/391 [01:17<00:00,  5.07it/s, loss=1.19, acc=68.9]\n",
            "Evaluating: 100%|██████████| 79/79 [00:05<00:00, 15.50it/s]\n"
          ]
        },
        {
          "output_type": "stream",
          "name": "stdout",
          "text": [
            "Train Loss: 1.1878, Train Acc: 68.89%\n",
            "Test Loss: 0.9582, Test Acc: 79.51%\n",
            "✓ Best model saved! (Acc: 79.51%)\n",
            "\n",
            "Epoch 39/200\n"
          ]
        },
        {
          "output_type": "stream",
          "name": "stderr",
          "text": [
            "Training: 100%|██████████| 391/391 [01:17<00:00,  5.07it/s, loss=1.18, acc=69.4]\n",
            "Evaluating: 100%|██████████| 79/79 [00:04<00:00, 15.85it/s]\n"
          ]
        },
        {
          "output_type": "stream",
          "name": "stdout",
          "text": [
            "Train Loss: 1.1753, Train Acc: 69.38%\n",
            "Test Loss: 0.9698, Test Acc: 78.99%\n",
            "\n",
            "Epoch 40/200\n"
          ]
        },
        {
          "output_type": "stream",
          "name": "stderr",
          "text": [
            "Training: 100%|██████████| 391/391 [01:17<00:00,  5.07it/s, loss=1.16, acc=70]\n",
            "Evaluating: 100%|██████████| 79/79 [00:05<00:00, 15.79it/s]\n"
          ]
        },
        {
          "output_type": "stream",
          "name": "stdout",
          "text": [
            "Train Loss: 1.1609, Train Acc: 70.00%\n",
            "Test Loss: 0.9571, Test Acc: 79.96%\n",
            "✓ Best model saved! (Acc: 79.96%)\n",
            "\n",
            "Epoch 41/200\n"
          ]
        },
        {
          "output_type": "stream",
          "name": "stderr",
          "text": [
            "Training: 100%|██████████| 391/391 [01:17<00:00,  5.07it/s, loss=1.15, acc=70.4]\n",
            "Evaluating: 100%|██████████| 79/79 [00:05<00:00, 15.69it/s]\n"
          ]
        },
        {
          "output_type": "stream",
          "name": "stdout",
          "text": [
            "Train Loss: 1.1530, Train Acc: 70.36%\n",
            "Test Loss: 0.9368, Test Acc: 80.39%\n",
            "✓ Best model saved! (Acc: 80.39%)\n",
            "\n",
            "Epoch 42/200\n"
          ]
        },
        {
          "output_type": "stream",
          "name": "stderr",
          "text": [
            "Training: 100%|██████████| 391/391 [01:16<00:00,  5.08it/s, loss=1.15, acc=70.8]\n",
            "Evaluating: 100%|██████████| 79/79 [00:04<00:00, 15.85it/s]\n"
          ]
        },
        {
          "output_type": "stream",
          "name": "stdout",
          "text": [
            "Train Loss: 1.1486, Train Acc: 70.78%\n",
            "Test Loss: 0.9350, Test Acc: 80.23%\n",
            "\n",
            "Epoch 43/200\n"
          ]
        },
        {
          "output_type": "stream",
          "name": "stderr",
          "text": [
            "Training: 100%|██████████| 391/391 [01:17<00:00,  5.07it/s, loss=1.15, acc=70.7]\n",
            "Evaluating: 100%|██████████| 79/79 [00:04<00:00, 15.93it/s]\n"
          ]
        },
        {
          "output_type": "stream",
          "name": "stdout",
          "text": [
            "Train Loss: 1.1462, Train Acc: 70.75%\n",
            "Test Loss: 0.9250, Test Acc: 80.91%\n",
            "✓ Best model saved! (Acc: 80.91%)\n",
            "\n",
            "Epoch 44/200\n"
          ]
        },
        {
          "output_type": "stream",
          "name": "stderr",
          "text": [
            "Training: 100%|██████████| 391/391 [01:16<00:00,  5.10it/s, loss=1.14, acc=71]\n",
            "Evaluating: 100%|██████████| 79/79 [00:05<00:00, 15.78it/s]\n"
          ]
        },
        {
          "output_type": "stream",
          "name": "stdout",
          "text": [
            "Train Loss: 1.1372, Train Acc: 71.03%\n",
            "Test Loss: 0.9287, Test Acc: 81.01%\n",
            "✓ Best model saved! (Acc: 81.01%)\n",
            "\n",
            "Epoch 45/200\n"
          ]
        },
        {
          "output_type": "stream",
          "name": "stderr",
          "text": [
            "Training: 100%|██████████| 391/391 [01:16<00:00,  5.09it/s, loss=1.13, acc=71.5]\n",
            "Evaluating: 100%|██████████| 79/79 [00:05<00:00, 15.55it/s]\n"
          ]
        },
        {
          "output_type": "stream",
          "name": "stdout",
          "text": [
            "Train Loss: 1.1319, Train Acc: 71.45%\n",
            "Test Loss: 0.9311, Test Acc: 80.85%\n",
            "\n",
            "Epoch 46/200\n"
          ]
        },
        {
          "output_type": "stream",
          "name": "stderr",
          "text": [
            "Training: 100%|██████████| 391/391 [01:16<00:00,  5.08it/s, loss=1.12, acc=71.8]\n",
            "Evaluating: 100%|██████████| 79/79 [00:04<00:00, 15.94it/s]\n"
          ]
        },
        {
          "output_type": "stream",
          "name": "stdout",
          "text": [
            "Train Loss: 1.1226, Train Acc: 71.80%\n",
            "Test Loss: 0.9198, Test Acc: 81.26%\n",
            "✓ Best model saved! (Acc: 81.26%)\n",
            "\n",
            "Epoch 47/200\n"
          ]
        },
        {
          "output_type": "stream",
          "name": "stderr",
          "text": [
            "Training: 100%|██████████| 391/391 [01:16<00:00,  5.09it/s, loss=1.11, acc=72.3]\n",
            "Evaluating: 100%|██████████| 79/79 [00:04<00:00, 15.87it/s]\n"
          ]
        },
        {
          "output_type": "stream",
          "name": "stdout",
          "text": [
            "Train Loss: 1.1132, Train Acc: 72.31%\n",
            "Test Loss: 0.9252, Test Acc: 81.10%\n",
            "\n",
            "Epoch 48/200\n"
          ]
        },
        {
          "output_type": "stream",
          "name": "stderr",
          "text": [
            "Training: 100%|██████████| 391/391 [01:16<00:00,  5.09it/s, loss=1.11, acc=72.3]\n",
            "Evaluating: 100%|██████████| 79/79 [00:05<00:00, 15.62it/s]\n"
          ]
        },
        {
          "output_type": "stream",
          "name": "stdout",
          "text": [
            "Train Loss: 1.1134, Train Acc: 72.27%\n",
            "Test Loss: 0.9194, Test Acc: 81.38%\n",
            "✓ Best model saved! (Acc: 81.38%)\n",
            "\n",
            "Epoch 49/200\n"
          ]
        },
        {
          "output_type": "stream",
          "name": "stderr",
          "text": [
            "Training: 100%|██████████| 391/391 [01:16<00:00,  5.08it/s, loss=1.1, acc=72.8]\n",
            "Evaluating: 100%|██████████| 79/79 [00:05<00:00, 15.51it/s]\n"
          ]
        },
        {
          "output_type": "stream",
          "name": "stdout",
          "text": [
            "Train Loss: 1.1025, Train Acc: 72.76%\n",
            "Test Loss: 0.9185, Test Acc: 81.36%\n",
            "\n",
            "Epoch 50/200\n"
          ]
        },
        {
          "output_type": "stream",
          "name": "stderr",
          "text": [
            "Training: 100%|██████████| 391/391 [01:16<00:00,  5.08it/s, loss=1.1, acc=72.8]\n",
            "Evaluating: 100%|██████████| 79/79 [00:04<00:00, 15.89it/s]\n"
          ]
        },
        {
          "output_type": "stream",
          "name": "stdout",
          "text": [
            "Train Loss: 1.0995, Train Acc: 72.83%\n",
            "Test Loss: 0.9209, Test Acc: 81.24%\n",
            "\n",
            "Epoch 51/200\n"
          ]
        },
        {
          "output_type": "stream",
          "name": "stderr",
          "text": [
            "Training: 100%|██████████| 391/391 [01:16<00:00,  5.08it/s, loss=1.09, acc=72.9]\n",
            "Evaluating: 100%|██████████| 79/79 [00:05<00:00, 15.70it/s]\n"
          ]
        },
        {
          "output_type": "stream",
          "name": "stdout",
          "text": [
            "Train Loss: 1.0937, Train Acc: 72.89%\n",
            "Test Loss: 0.9207, Test Acc: 81.26%\n",
            "\n",
            "Epoch 52/200\n"
          ]
        },
        {
          "output_type": "stream",
          "name": "stderr",
          "text": [
            "Training: 100%|██████████| 391/391 [01:17<00:00,  5.06it/s, loss=1.09, acc=73.7]\n",
            "Evaluating: 100%|██████████| 79/79 [00:05<00:00, 15.43it/s]\n"
          ]
        },
        {
          "output_type": "stream",
          "name": "stdout",
          "text": [
            "Train Loss: 1.0855, Train Acc: 73.66%\n",
            "Test Loss: 0.9128, Test Acc: 81.95%\n",
            "✓ Best model saved! (Acc: 81.95%)\n",
            "\n",
            "Epoch 53/200\n"
          ]
        },
        {
          "output_type": "stream",
          "name": "stderr",
          "text": [
            "Training: 100%|██████████| 391/391 [01:17<00:00,  5.07it/s, loss=1.08, acc=73.6]\n",
            "Evaluating: 100%|██████████| 79/79 [00:04<00:00, 15.88it/s]\n"
          ]
        },
        {
          "output_type": "stream",
          "name": "stdout",
          "text": [
            "Train Loss: 1.0771, Train Acc: 73.62%\n",
            "Test Loss: 0.9050, Test Acc: 82.24%\n",
            "✓ Best model saved! (Acc: 82.24%)\n",
            "\n",
            "Epoch 54/200\n"
          ]
        },
        {
          "output_type": "stream",
          "name": "stderr",
          "text": [
            "Training: 100%|██████████| 391/391 [01:16<00:00,  5.09it/s, loss=1.08, acc=74]\n",
            "Evaluating: 100%|██████████| 79/79 [00:04<00:00, 15.93it/s]\n"
          ]
        },
        {
          "output_type": "stream",
          "name": "stdout",
          "text": [
            "Train Loss: 1.0784, Train Acc: 74.04%\n",
            "Test Loss: 0.9197, Test Acc: 81.51%\n",
            "\n",
            "Epoch 55/200\n"
          ]
        },
        {
          "output_type": "stream",
          "name": "stderr",
          "text": [
            "Training: 100%|██████████| 391/391 [01:16<00:00,  5.09it/s, loss=1.07, acc=74.4]\n",
            "Evaluating: 100%|██████████| 79/79 [00:05<00:00, 15.43it/s]\n"
          ]
        },
        {
          "output_type": "stream",
          "name": "stdout",
          "text": [
            "Train Loss: 1.0669, Train Acc: 74.42%\n",
            "Test Loss: 0.9017, Test Acc: 82.55%\n",
            "✓ Best model saved! (Acc: 82.55%)\n",
            "\n",
            "Epoch 56/200\n"
          ]
        },
        {
          "output_type": "stream",
          "name": "stderr",
          "text": [
            "Training: 100%|██████████| 391/391 [01:16<00:00,  5.08it/s, loss=1.06, acc=74.4]\n",
            "Evaluating: 100%|██████████| 79/79 [00:05<00:00, 15.53it/s]\n"
          ]
        },
        {
          "output_type": "stream",
          "name": "stdout",
          "text": [
            "Train Loss: 1.0637, Train Acc: 74.37%\n",
            "Test Loss: 0.8815, Test Acc: 82.83%\n",
            "✓ Best model saved! (Acc: 82.83%)\n",
            "\n",
            "Epoch 57/200\n"
          ]
        },
        {
          "output_type": "stream",
          "name": "stderr",
          "text": [
            "Training: 100%|██████████| 391/391 [01:16<00:00,  5.08it/s, loss=1.06, acc=74.6]\n",
            "Evaluating: 100%|██████████| 79/79 [00:04<00:00, 15.80it/s]\n"
          ]
        },
        {
          "output_type": "stream",
          "name": "stdout",
          "text": [
            "Train Loss: 1.0590, Train Acc: 74.57%\n",
            "Test Loss: 0.9023, Test Acc: 81.99%\n",
            "\n",
            "Epoch 58/200\n"
          ]
        },
        {
          "output_type": "stream",
          "name": "stderr",
          "text": [
            "Training: 100%|██████████| 391/391 [01:17<00:00,  5.07it/s, loss=1.06, acc=74.9]\n",
            "Evaluating: 100%|██████████| 79/79 [00:04<00:00, 15.81it/s]\n"
          ]
        },
        {
          "output_type": "stream",
          "name": "stdout",
          "text": [
            "Train Loss: 1.0558, Train Acc: 74.92%\n",
            "Test Loss: 0.8883, Test Acc: 82.71%\n",
            "\n",
            "Epoch 59/200\n"
          ]
        },
        {
          "output_type": "stream",
          "name": "stderr",
          "text": [
            "Training: 100%|██████████| 391/391 [01:17<00:00,  5.06it/s, loss=1.05, acc=75.4]\n",
            "Evaluating: 100%|██████████| 79/79 [00:05<00:00, 15.56it/s]\n"
          ]
        },
        {
          "output_type": "stream",
          "name": "stdout",
          "text": [
            "Train Loss: 1.0459, Train Acc: 75.39%\n",
            "Test Loss: 0.8799, Test Acc: 82.82%\n",
            "\n",
            "Epoch 60/200\n"
          ]
        },
        {
          "output_type": "stream",
          "name": "stderr",
          "text": [
            "Training: 100%|██████████| 391/391 [01:16<00:00,  5.09it/s, loss=1.05, acc=75.4]\n",
            "Evaluating: 100%|██████████| 79/79 [00:04<00:00, 15.95it/s]\n"
          ]
        },
        {
          "output_type": "stream",
          "name": "stdout",
          "text": [
            "Train Loss: 1.0463, Train Acc: 75.36%\n",
            "Test Loss: 0.8700, Test Acc: 83.51%\n",
            "✓ Best model saved! (Acc: 83.51%)\n",
            "\n",
            "Epoch 61/200\n"
          ]
        },
        {
          "output_type": "stream",
          "name": "stderr",
          "text": [
            "Training: 100%|██████████| 391/391 [01:16<00:00,  5.08it/s, loss=1.04, acc=75.4]\n",
            "Evaluating: 100%|██████████| 79/79 [00:04<00:00, 15.87it/s]\n"
          ]
        },
        {
          "output_type": "stream",
          "name": "stdout",
          "text": [
            "Train Loss: 1.0430, Train Acc: 75.37%\n",
            "Test Loss: 0.8660, Test Acc: 83.67%\n",
            "✓ Best model saved! (Acc: 83.67%)\n",
            "\n",
            "Epoch 62/200\n"
          ]
        },
        {
          "output_type": "stream",
          "name": "stderr",
          "text": [
            "Training: 100%|██████████| 391/391 [01:17<00:00,  5.08it/s, loss=1.03, acc=76]\n",
            "Evaluating: 100%|██████████| 79/79 [00:05<00:00, 15.64it/s]\n"
          ]
        },
        {
          "output_type": "stream",
          "name": "stdout",
          "text": [
            "Train Loss: 1.0317, Train Acc: 76.01%\n",
            "Test Loss: 0.8618, Test Acc: 84.15%\n",
            "✓ Best model saved! (Acc: 84.15%)\n",
            "\n",
            "Epoch 63/200\n"
          ]
        },
        {
          "output_type": "stream",
          "name": "stderr",
          "text": [
            "Training: 100%|██████████| 391/391 [01:17<00:00,  5.08it/s, loss=1.03, acc=76]\n",
            "Evaluating: 100%|██████████| 79/79 [00:05<00:00, 15.44it/s]\n"
          ]
        },
        {
          "output_type": "stream",
          "name": "stdout",
          "text": [
            "Train Loss: 1.0299, Train Acc: 75.96%\n",
            "Test Loss: 0.8667, Test Acc: 84.05%\n",
            "\n",
            "Epoch 64/200\n"
          ]
        },
        {
          "output_type": "stream",
          "name": "stderr",
          "text": [
            "Training: 100%|██████████| 391/391 [01:17<00:00,  5.07it/s, loss=1.02, acc=76.2]\n",
            "Evaluating: 100%|██████████| 79/79 [00:04<00:00, 15.88it/s]\n"
          ]
        },
        {
          "output_type": "stream",
          "name": "stdout",
          "text": [
            "Train Loss: 1.0231, Train Acc: 76.23%\n",
            "Test Loss: 0.8857, Test Acc: 83.23%\n",
            "\n",
            "Epoch 65/200\n"
          ]
        },
        {
          "output_type": "stream",
          "name": "stderr",
          "text": [
            "Training: 100%|██████████| 391/391 [01:16<00:00,  5.08it/s, loss=1.02, acc=76.4]\n",
            "Evaluating: 100%|██████████| 79/79 [00:04<00:00, 15.89it/s]\n"
          ]
        },
        {
          "output_type": "stream",
          "name": "stdout",
          "text": [
            "Train Loss: 1.0169, Train Acc: 76.39%\n",
            "Test Loss: 0.8625, Test Acc: 83.92%\n",
            "\n",
            "Epoch 66/200\n"
          ]
        },
        {
          "output_type": "stream",
          "name": "stderr",
          "text": [
            "Training: 100%|██████████| 391/391 [01:16<00:00,  5.08it/s, loss=1.01, acc=77]\n",
            "Evaluating: 100%|██████████| 79/79 [00:05<00:00, 15.52it/s]\n"
          ]
        },
        {
          "output_type": "stream",
          "name": "stdout",
          "text": [
            "Train Loss: 1.0118, Train Acc: 76.99%\n",
            "Test Loss: 0.8557, Test Acc: 84.58%\n",
            "✓ Best model saved! (Acc: 84.58%)\n",
            "\n",
            "Epoch 67/200\n"
          ]
        },
        {
          "output_type": "stream",
          "name": "stderr",
          "text": [
            "Training: 100%|██████████| 391/391 [01:16<00:00,  5.08it/s, loss=1.01, acc=76.9]\n",
            "Evaluating: 100%|██████████| 79/79 [00:05<00:00, 15.61it/s]\n"
          ]
        },
        {
          "output_type": "stream",
          "name": "stdout",
          "text": [
            "Train Loss: 1.0086, Train Acc: 76.90%\n",
            "Test Loss: 0.8700, Test Acc: 83.96%\n",
            "\n",
            "Epoch 68/200\n"
          ]
        },
        {
          "output_type": "stream",
          "name": "stderr",
          "text": [
            "Training: 100%|██████████| 391/391 [01:17<00:00,  5.07it/s, loss=1, acc=77.2]\n",
            "Evaluating: 100%|██████████| 79/79 [00:04<00:00, 15.89it/s]\n"
          ]
        },
        {
          "output_type": "stream",
          "name": "stdout",
          "text": [
            "Train Loss: 1.0016, Train Acc: 77.24%\n",
            "Test Loss: 0.8711, Test Acc: 83.68%\n",
            "\n",
            "Epoch 69/200\n"
          ]
        },
        {
          "output_type": "stream",
          "name": "stderr",
          "text": [
            "Training: 100%|██████████| 391/391 [01:17<00:00,  5.07it/s, loss=0.997, acc=77.5]\n",
            "Evaluating: 100%|██████████| 79/79 [00:05<00:00, 15.77it/s]\n"
          ]
        },
        {
          "output_type": "stream",
          "name": "stdout",
          "text": [
            "Train Loss: 0.9968, Train Acc: 77.50%\n",
            "Test Loss: 0.8548, Test Acc: 84.51%\n",
            "\n",
            "Epoch 70/200\n"
          ]
        },
        {
          "output_type": "stream",
          "name": "stderr",
          "text": [
            "Training: 100%|██████████| 391/391 [01:17<00:00,  5.05it/s, loss=0.996, acc=77.6]\n",
            "Evaluating: 100%|██████████| 79/79 [00:05<00:00, 15.35it/s]\n"
          ]
        },
        {
          "output_type": "stream",
          "name": "stdout",
          "text": [
            "Train Loss: 0.9964, Train Acc: 77.57%\n",
            "Test Loss: 0.8346, Test Acc: 85.23%\n",
            "✓ Best model saved! (Acc: 85.23%)\n",
            "\n",
            "Epoch 71/200\n"
          ]
        },
        {
          "output_type": "stream",
          "name": "stderr",
          "text": [
            "Training: 100%|██████████| 391/391 [01:16<00:00,  5.08it/s, loss=0.991, acc=77.7]\n",
            "Evaluating: 100%|██████████| 79/79 [00:05<00:00, 15.70it/s]\n"
          ]
        },
        {
          "output_type": "stream",
          "name": "stdout",
          "text": [
            "Train Loss: 0.9915, Train Acc: 77.66%\n",
            "Test Loss: 0.8268, Test Acc: 85.47%\n",
            "✓ Best model saved! (Acc: 85.47%)\n",
            "\n",
            "Epoch 72/200\n"
          ]
        },
        {
          "output_type": "stream",
          "name": "stderr",
          "text": [
            "Training: 100%|██████████| 391/391 [01:16<00:00,  5.08it/s, loss=0.987, acc=78]\n",
            "Evaluating: 100%|██████████| 79/79 [00:04<00:00, 15.85it/s]\n"
          ]
        },
        {
          "output_type": "stream",
          "name": "stdout",
          "text": [
            "Train Loss: 0.9873, Train Acc: 78.02%\n",
            "Test Loss: 0.8307, Test Acc: 85.69%\n",
            "✓ Best model saved! (Acc: 85.69%)\n",
            "\n",
            "Epoch 73/200\n"
          ]
        },
        {
          "output_type": "stream",
          "name": "stderr",
          "text": [
            "Training: 100%|██████████| 391/391 [01:16<00:00,  5.08it/s, loss=0.977, acc=78.4]\n",
            "Evaluating: 100%|██████████| 79/79 [00:05<00:00, 15.68it/s]\n"
          ]
        },
        {
          "output_type": "stream",
          "name": "stdout",
          "text": [
            "Train Loss: 0.9774, Train Acc: 78.42%\n",
            "Test Loss: 0.8351, Test Acc: 85.27%\n",
            "\n",
            "Epoch 74/200\n"
          ]
        },
        {
          "output_type": "stream",
          "name": "stderr",
          "text": [
            "Training: 100%|██████████| 391/391 [01:17<00:00,  5.07it/s, loss=0.973, acc=78.5]\n",
            "Evaluating: 100%|██████████| 79/79 [00:05<00:00, 15.38it/s]\n"
          ]
        },
        {
          "output_type": "stream",
          "name": "stdout",
          "text": [
            "Train Loss: 0.9734, Train Acc: 78.53%\n",
            "Test Loss: 0.8526, Test Acc: 84.71%\n",
            "\n",
            "Epoch 75/200\n"
          ]
        },
        {
          "output_type": "stream",
          "name": "stderr",
          "text": [
            "Training: 100%|██████████| 391/391 [01:17<00:00,  5.07it/s, loss=0.972, acc=78.7]\n",
            "Evaluating: 100%|██████████| 79/79 [00:04<00:00, 15.87it/s]\n"
          ]
        },
        {
          "output_type": "stream",
          "name": "stdout",
          "text": [
            "Train Loss: 0.9718, Train Acc: 78.66%\n",
            "Test Loss: 0.8300, Test Acc: 85.69%\n",
            "\n",
            "Epoch 76/200\n"
          ]
        },
        {
          "output_type": "stream",
          "name": "stderr",
          "text": [
            "Training: 100%|██████████| 391/391 [01:17<00:00,  5.08it/s, loss=0.962, acc=79.1]\n",
            "Evaluating: 100%|██████████| 79/79 [00:04<00:00, 15.82it/s]\n"
          ]
        },
        {
          "output_type": "stream",
          "name": "stdout",
          "text": [
            "Train Loss: 0.9622, Train Acc: 79.08%\n",
            "Test Loss: 0.8232, Test Acc: 85.67%\n",
            "\n",
            "Epoch 77/200\n"
          ]
        },
        {
          "output_type": "stream",
          "name": "stderr",
          "text": [
            "Training: 100%|██████████| 391/391 [01:16<00:00,  5.08it/s, loss=0.962, acc=79.2]\n",
            "Evaluating: 100%|██████████| 79/79 [00:05<00:00, 15.46it/s]\n"
          ]
        },
        {
          "output_type": "stream",
          "name": "stdout",
          "text": [
            "Train Loss: 0.9616, Train Acc: 79.19%\n",
            "Test Loss: 0.8308, Test Acc: 85.57%\n",
            "\n",
            "Epoch 78/200\n"
          ]
        },
        {
          "output_type": "stream",
          "name": "stderr",
          "text": [
            "Training: 100%|██████████| 391/391 [01:17<00:00,  5.07it/s, loss=0.95, acc=79.8]\n",
            "Evaluating: 100%|██████████| 79/79 [00:04<00:00, 15.87it/s]\n"
          ]
        },
        {
          "output_type": "stream",
          "name": "stdout",
          "text": [
            "Train Loss: 0.9497, Train Acc: 79.80%\n",
            "Test Loss: 0.8209, Test Acc: 85.72%\n",
            "✓ Best model saved! (Acc: 85.72%)\n",
            "\n",
            "Epoch 79/200\n"
          ]
        },
        {
          "output_type": "stream",
          "name": "stderr",
          "text": [
            "Training: 100%|██████████| 391/391 [01:17<00:00,  5.07it/s, loss=0.947, acc=79.7]\n",
            "Evaluating: 100%|██████████| 79/79 [00:04<00:00, 15.88it/s]\n"
          ]
        },
        {
          "output_type": "stream",
          "name": "stdout",
          "text": [
            "Train Loss: 0.9470, Train Acc: 79.65%\n",
            "Test Loss: 0.8195, Test Acc: 86.35%\n",
            "✓ Best model saved! (Acc: 86.35%)\n",
            "\n",
            "Epoch 80/200\n"
          ]
        },
        {
          "output_type": "stream",
          "name": "stderr",
          "text": [
            "Training: 100%|██████████| 391/391 [01:16<00:00,  5.08it/s, loss=0.943, acc=80.1]\n",
            "Evaluating: 100%|██████████| 79/79 [00:05<00:00, 15.55it/s]\n"
          ]
        },
        {
          "output_type": "stream",
          "name": "stdout",
          "text": [
            "Train Loss: 0.9431, Train Acc: 80.06%\n",
            "Test Loss: 0.8207, Test Acc: 86.37%\n",
            "✓ Best model saved! (Acc: 86.37%)\n",
            "\n",
            "Epoch 81/200\n"
          ]
        },
        {
          "output_type": "stream",
          "name": "stderr",
          "text": [
            "Training: 100%|██████████| 391/391 [01:17<00:00,  5.08it/s, loss=0.94, acc=80.1]\n",
            "Evaluating: 100%|██████████| 79/79 [00:05<00:00, 15.47it/s]\n"
          ]
        },
        {
          "output_type": "stream",
          "name": "stdout",
          "text": [
            "Train Loss: 0.9402, Train Acc: 80.07%\n",
            "Test Loss: 0.8119, Test Acc: 86.72%\n",
            "✓ Best model saved! (Acc: 86.72%)\n",
            "\n",
            "Epoch 82/200\n"
          ]
        },
        {
          "output_type": "stream",
          "name": "stderr",
          "text": [
            "Training: 100%|██████████| 391/391 [01:16<00:00,  5.08it/s, loss=0.938, acc=80.3]\n",
            "Evaluating: 100%|██████████| 79/79 [00:04<00:00, 15.87it/s]\n"
          ]
        },
        {
          "output_type": "stream",
          "name": "stdout",
          "text": [
            "Train Loss: 0.9382, Train Acc: 80.28%\n",
            "Test Loss: 0.8320, Test Acc: 85.59%\n",
            "\n",
            "Epoch 83/200\n"
          ]
        },
        {
          "output_type": "stream",
          "name": "stderr",
          "text": [
            "Training: 100%|██████████| 391/391 [01:17<00:00,  5.07it/s, loss=0.931, acc=80.4]\n",
            "Evaluating: 100%|██████████| 79/79 [00:05<00:00, 15.61it/s]\n"
          ]
        },
        {
          "output_type": "stream",
          "name": "stdout",
          "text": [
            "Train Loss: 0.9313, Train Acc: 80.44%\n",
            "Test Loss: 0.8116, Test Acc: 86.81%\n",
            "✓ Best model saved! (Acc: 86.81%)\n",
            "\n",
            "Epoch 84/200\n"
          ]
        },
        {
          "output_type": "stream",
          "name": "stderr",
          "text": [
            "Training: 100%|██████████| 391/391 [01:17<00:00,  5.05it/s, loss=0.927, acc=80.7]\n",
            "Evaluating: 100%|██████████| 79/79 [00:05<00:00, 15.48it/s]\n"
          ]
        },
        {
          "output_type": "stream",
          "name": "stdout",
          "text": [
            "Train Loss: 0.9266, Train Acc: 80.69%\n",
            "Test Loss: 0.8231, Test Acc: 86.29%\n",
            "\n",
            "Epoch 85/200\n"
          ]
        },
        {
          "output_type": "stream",
          "name": "stderr",
          "text": [
            "Training: 100%|██████████| 391/391 [01:17<00:00,  5.08it/s, loss=0.919, acc=81.1]\n",
            "Evaluating: 100%|██████████| 79/79 [00:05<00:00, 15.45it/s]\n"
          ]
        },
        {
          "output_type": "stream",
          "name": "stdout",
          "text": [
            "Train Loss: 0.9190, Train Acc: 81.07%\n",
            "Test Loss: 0.8033, Test Acc: 86.87%\n",
            "✓ Best model saved! (Acc: 86.87%)\n",
            "\n",
            "Epoch 86/200\n"
          ]
        },
        {
          "output_type": "stream",
          "name": "stderr",
          "text": [
            "Training: 100%|██████████| 391/391 [01:16<00:00,  5.08it/s, loss=0.922, acc=80.9]\n",
            "Evaluating: 100%|██████████| 79/79 [00:04<00:00, 15.84it/s]\n"
          ]
        },
        {
          "output_type": "stream",
          "name": "stdout",
          "text": [
            "Train Loss: 0.9216, Train Acc: 80.93%\n",
            "Test Loss: 0.8200, Test Acc: 86.28%\n",
            "\n",
            "Epoch 87/200\n"
          ]
        },
        {
          "output_type": "stream",
          "name": "stderr",
          "text": [
            "Training: 100%|██████████| 391/391 [01:17<00:00,  5.07it/s, loss=0.919, acc=81]\n",
            "Evaluating: 100%|██████████| 79/79 [00:05<00:00, 15.67it/s]\n"
          ]
        },
        {
          "output_type": "stream",
          "name": "stdout",
          "text": [
            "Train Loss: 0.9187, Train Acc: 80.98%\n",
            "Test Loss: 0.8229, Test Acc: 86.23%\n",
            "\n",
            "Epoch 88/200\n"
          ]
        },
        {
          "output_type": "stream",
          "name": "stderr",
          "text": [
            "Training: 100%|██████████| 391/391 [01:17<00:00,  5.07it/s, loss=0.913, acc=81.4]\n",
            "Evaluating: 100%|██████████| 79/79 [00:05<00:00, 15.26it/s]\n"
          ]
        },
        {
          "output_type": "stream",
          "name": "stdout",
          "text": [
            "Train Loss: 0.9130, Train Acc: 81.42%\n",
            "Test Loss: 0.8188, Test Acc: 86.62%\n",
            "\n",
            "Epoch 89/200\n"
          ]
        },
        {
          "output_type": "stream",
          "name": "stderr",
          "text": [
            "Training: 100%|██████████| 391/391 [01:17<00:00,  5.07it/s, loss=0.908, acc=81.7]\n",
            "Evaluating: 100%|██████████| 79/79 [00:05<00:00, 15.42it/s]\n"
          ]
        },
        {
          "output_type": "stream",
          "name": "stdout",
          "text": [
            "Train Loss: 0.9082, Train Acc: 81.70%\n",
            "Test Loss: 0.8088, Test Acc: 86.91%\n",
            "✓ Best model saved! (Acc: 86.91%)\n",
            "\n",
            "Epoch 90/200\n"
          ]
        },
        {
          "output_type": "stream",
          "name": "stderr",
          "text": [
            "Training: 100%|██████████| 391/391 [01:16<00:00,  5.09it/s, loss=0.909, acc=81.6]\n",
            "Evaluating: 100%|██████████| 79/79 [00:05<00:00, 15.78it/s]\n"
          ]
        },
        {
          "output_type": "stream",
          "name": "stdout",
          "text": [
            "Train Loss: 0.9092, Train Acc: 81.57%\n",
            "Test Loss: 0.8121, Test Acc: 86.69%\n",
            "\n",
            "Epoch 91/200\n"
          ]
        },
        {
          "output_type": "stream",
          "name": "stderr",
          "text": [
            "Training: 100%|██████████| 391/391 [01:17<00:00,  5.07it/s, loss=0.901, acc=81.8]\n",
            "Evaluating: 100%|██████████| 79/79 [00:05<00:00, 15.65it/s]\n"
          ]
        },
        {
          "output_type": "stream",
          "name": "stdout",
          "text": [
            "Train Loss: 0.9012, Train Acc: 81.83%\n",
            "Test Loss: 0.8125, Test Acc: 87.21%\n",
            "✓ Best model saved! (Acc: 87.21%)\n",
            "\n",
            "Epoch 92/200\n"
          ]
        },
        {
          "output_type": "stream",
          "name": "stderr",
          "text": [
            "Training: 100%|██████████| 391/391 [01:17<00:00,  5.08it/s, loss=0.896, acc=82]\n",
            "Evaluating: 100%|██████████| 79/79 [00:04<00:00, 15.88it/s]\n"
          ]
        },
        {
          "output_type": "stream",
          "name": "stdout",
          "text": [
            "Train Loss: 0.8960, Train Acc: 82.02%\n",
            "Test Loss: 0.8131, Test Acc: 86.74%\n",
            "\n",
            "Epoch 93/200\n"
          ]
        },
        {
          "output_type": "stream",
          "name": "stderr",
          "text": [
            "Training: 100%|██████████| 391/391 [01:17<00:00,  5.07it/s, loss=0.9, acc=82]\n",
            "Evaluating: 100%|██████████| 79/79 [00:05<00:00, 15.76it/s]\n"
          ]
        },
        {
          "output_type": "stream",
          "name": "stdout",
          "text": [
            "Train Loss: 0.9003, Train Acc: 81.97%\n",
            "Test Loss: 0.8002, Test Acc: 87.22%\n",
            "✓ Best model saved! (Acc: 87.22%)\n",
            "\n",
            "Epoch 94/200\n"
          ]
        },
        {
          "output_type": "stream",
          "name": "stderr",
          "text": [
            "Training: 100%|██████████| 391/391 [01:17<00:00,  5.07it/s, loss=0.885, acc=82.6]\n",
            "Evaluating: 100%|██████████| 79/79 [00:05<00:00, 15.66it/s]\n"
          ]
        },
        {
          "output_type": "stream",
          "name": "stdout",
          "text": [
            "Train Loss: 0.8851, Train Acc: 82.62%\n",
            "Test Loss: 0.8165, Test Acc: 86.79%\n",
            "\n",
            "Epoch 95/200\n"
          ]
        },
        {
          "output_type": "stream",
          "name": "stderr",
          "text": [
            "Training: 100%|██████████| 391/391 [01:17<00:00,  5.07it/s, loss=0.885, acc=82.5]\n",
            "Evaluating: 100%|██████████| 79/79 [00:05<00:00, 15.43it/s]\n"
          ]
        },
        {
          "output_type": "stream",
          "name": "stdout",
          "text": [
            "Train Loss: 0.8854, Train Acc: 82.53%\n",
            "Test Loss: 0.8185, Test Acc: 86.86%\n",
            "\n",
            "Epoch 96/200\n"
          ]
        },
        {
          "output_type": "stream",
          "name": "stderr",
          "text": [
            "Training: 100%|██████████| 391/391 [01:17<00:00,  5.08it/s, loss=0.882, acc=82.8]\n",
            "Evaluating: 100%|██████████| 79/79 [00:05<00:00, 15.67it/s]\n"
          ]
        },
        {
          "output_type": "stream",
          "name": "stdout",
          "text": [
            "Train Loss: 0.8817, Train Acc: 82.76%\n",
            "Test Loss: 0.8095, Test Acc: 86.94%\n",
            "\n",
            "Epoch 97/200\n"
          ]
        },
        {
          "output_type": "stream",
          "name": "stderr",
          "text": [
            "Training: 100%|██████████| 391/391 [01:17<00:00,  5.08it/s, loss=0.881, acc=82.9]\n",
            "Evaluating: 100%|██████████| 79/79 [00:04<00:00, 15.89it/s]\n"
          ]
        },
        {
          "output_type": "stream",
          "name": "stdout",
          "text": [
            "Train Loss: 0.8806, Train Acc: 82.90%\n",
            "Test Loss: 0.8074, Test Acc: 87.34%\n",
            "✓ Best model saved! (Acc: 87.34%)\n",
            "\n",
            "Epoch 98/200\n"
          ]
        },
        {
          "output_type": "stream",
          "name": "stderr",
          "text": [
            "Training: 100%|██████████| 391/391 [01:17<00:00,  5.06it/s, loss=0.874, acc=83.2]\n",
            "Evaluating: 100%|██████████| 79/79 [00:05<00:00, 15.50it/s]\n"
          ]
        },
        {
          "output_type": "stream",
          "name": "stdout",
          "text": [
            "Train Loss: 0.8742, Train Acc: 83.18%\n",
            "Test Loss: 0.8145, Test Acc: 87.02%\n",
            "\n",
            "Epoch 99/200\n"
          ]
        },
        {
          "output_type": "stream",
          "name": "stderr",
          "text": [
            "Training: 100%|██████████| 391/391 [01:17<00:00,  5.06it/s, loss=0.871, acc=83.2]\n",
            "Evaluating: 100%|██████████| 79/79 [00:05<00:00, 15.33it/s]\n"
          ]
        },
        {
          "output_type": "stream",
          "name": "stdout",
          "text": [
            "Train Loss: 0.8711, Train Acc: 83.17%\n",
            "Test Loss: 0.8062, Test Acc: 87.22%\n",
            "\n",
            "Epoch 100/200\n"
          ]
        },
        {
          "output_type": "stream",
          "name": "stderr",
          "text": [
            "Training: 100%|██████████| 391/391 [01:17<00:00,  5.07it/s, loss=0.871, acc=83.2]\n",
            "Evaluating: 100%|██████████| 79/79 [00:05<00:00, 15.26it/s]\n"
          ]
        },
        {
          "output_type": "stream",
          "name": "stdout",
          "text": [
            "Train Loss: 0.8713, Train Acc: 83.15%\n",
            "Test Loss: 0.7930, Test Acc: 87.69%\n",
            "✓ Best model saved! (Acc: 87.69%)\n",
            "\n",
            "Epoch 101/200\n"
          ]
        },
        {
          "output_type": "stream",
          "name": "stderr",
          "text": [
            "Training: 100%|██████████| 391/391 [01:17<00:00,  5.07it/s, loss=0.866, acc=83.5]\n",
            "Evaluating: 100%|██████████| 79/79 [00:05<00:00, 15.79it/s]\n"
          ]
        },
        {
          "output_type": "stream",
          "name": "stdout",
          "text": [
            "Train Loss: 0.8656, Train Acc: 83.52%\n",
            "Test Loss: 0.8038, Test Acc: 87.30%\n",
            "\n",
            "Epoch 102/200\n"
          ]
        },
        {
          "output_type": "stream",
          "name": "stderr",
          "text": [
            "Training: 100%|██████████| 391/391 [01:17<00:00,  5.06it/s, loss=0.859, acc=83.7]\n",
            "Evaluating: 100%|██████████| 79/79 [00:05<00:00, 15.45it/s]\n"
          ]
        },
        {
          "output_type": "stream",
          "name": "stdout",
          "text": [
            "Train Loss: 0.8594, Train Acc: 83.73%\n",
            "Test Loss: 0.8061, Test Acc: 87.44%\n",
            "\n",
            "Epoch 103/200\n"
          ]
        },
        {
          "output_type": "stream",
          "name": "stderr",
          "text": [
            "Training: 100%|██████████| 391/391 [01:17<00:00,  5.07it/s, loss=0.861, acc=83.7]\n",
            "Evaluating: 100%|██████████| 79/79 [00:05<00:00, 15.48it/s]\n"
          ]
        },
        {
          "output_type": "stream",
          "name": "stdout",
          "text": [
            "Train Loss: 0.8612, Train Acc: 83.67%\n",
            "Test Loss: 0.8060, Test Acc: 87.58%\n",
            "\n",
            "Epoch 104/200\n"
          ]
        },
        {
          "output_type": "stream",
          "name": "stderr",
          "text": [
            "Training: 100%|██████████| 391/391 [01:16<00:00,  5.08it/s, loss=0.854, acc=84.1]\n",
            "Evaluating: 100%|██████████| 79/79 [00:04<00:00, 15.87it/s]\n"
          ]
        },
        {
          "output_type": "stream",
          "name": "stdout",
          "text": [
            "Train Loss: 0.8536, Train Acc: 84.11%\n",
            "Test Loss: 0.8044, Test Acc: 87.49%\n",
            "\n",
            "Epoch 105/200\n"
          ]
        },
        {
          "output_type": "stream",
          "name": "stderr",
          "text": [
            "Training: 100%|██████████| 391/391 [01:17<00:00,  5.08it/s, loss=0.852, acc=84.1]\n",
            "Evaluating: 100%|██████████| 79/79 [00:05<00:00, 15.64it/s]\n"
          ]
        },
        {
          "output_type": "stream",
          "name": "stdout",
          "text": [
            "Train Loss: 0.8519, Train Acc: 84.10%\n",
            "Test Loss: 0.8045, Test Acc: 87.77%\n",
            "✓ Best model saved! (Acc: 87.77%)\n",
            "\n",
            "Epoch 106/200\n"
          ]
        },
        {
          "output_type": "stream",
          "name": "stderr",
          "text": [
            "Training: 100%|██████████| 391/391 [01:17<00:00,  5.06it/s, loss=0.848, acc=84.2]\n",
            "Evaluating: 100%|██████████| 79/79 [00:05<00:00, 15.52it/s]\n"
          ]
        },
        {
          "output_type": "stream",
          "name": "stdout",
          "text": [
            "Train Loss: 0.8479, Train Acc: 84.22%\n",
            "Test Loss: 0.8105, Test Acc: 87.63%\n",
            "\n",
            "Epoch 107/200\n"
          ]
        },
        {
          "output_type": "stream",
          "name": "stderr",
          "text": [
            "Training: 100%|██████████| 391/391 [01:16<00:00,  5.10it/s, loss=0.846, acc=84.4]\n",
            "Evaluating: 100%|██████████| 79/79 [00:04<00:00, 15.91it/s]\n"
          ]
        },
        {
          "output_type": "stream",
          "name": "stdout",
          "text": [
            "Train Loss: 0.8463, Train Acc: 84.38%\n",
            "Test Loss: 0.8031, Test Acc: 87.53%\n",
            "\n",
            "Epoch 108/200\n"
          ]
        },
        {
          "output_type": "stream",
          "name": "stderr",
          "text": [
            "Training: 100%|██████████| 391/391 [01:16<00:00,  5.09it/s, loss=0.844, acc=84.4]\n",
            "Evaluating: 100%|██████████| 79/79 [00:04<00:00, 15.91it/s]\n"
          ]
        },
        {
          "output_type": "stream",
          "name": "stdout",
          "text": [
            "Train Loss: 0.8440, Train Acc: 84.45%\n",
            "Test Loss: 0.8132, Test Acc: 87.64%\n",
            "\n",
            "Epoch 109/200\n"
          ]
        },
        {
          "output_type": "stream",
          "name": "stderr",
          "text": [
            "Training: 100%|██████████| 391/391 [01:16<00:00,  5.08it/s, loss=0.84, acc=84.7]\n",
            "Evaluating: 100%|██████████| 79/79 [00:05<00:00, 15.71it/s]\n"
          ]
        },
        {
          "output_type": "stream",
          "name": "stdout",
          "text": [
            "Train Loss: 0.8396, Train Acc: 84.70%\n",
            "Test Loss: 0.7954, Test Acc: 87.76%\n",
            "\n",
            "Epoch 110/200\n"
          ]
        },
        {
          "output_type": "stream",
          "name": "stderr",
          "text": [
            "Training: 100%|██████████| 391/391 [01:16<00:00,  5.08it/s, loss=0.838, acc=84.6]\n",
            "Evaluating: 100%|██████████| 79/79 [00:05<00:00, 15.43it/s]\n"
          ]
        },
        {
          "output_type": "stream",
          "name": "stdout",
          "text": [
            "Train Loss: 0.8375, Train Acc: 84.64%\n",
            "Test Loss: 0.8003, Test Acc: 87.62%\n",
            "\n",
            "Epoch 111/200\n"
          ]
        },
        {
          "output_type": "stream",
          "name": "stderr",
          "text": [
            "Training: 100%|██████████| 391/391 [01:17<00:00,  5.06it/s, loss=0.835, acc=84.8]\n",
            "Evaluating: 100%|██████████| 79/79 [00:04<00:00, 15.83it/s]\n"
          ]
        },
        {
          "output_type": "stream",
          "name": "stdout",
          "text": [
            "Train Loss: 0.8351, Train Acc: 84.78%\n",
            "Test Loss: 0.8021, Test Acc: 87.77%\n",
            "\n",
            "Epoch 112/200\n"
          ]
        },
        {
          "output_type": "stream",
          "name": "stderr",
          "text": [
            "Training: 100%|██████████| 391/391 [01:17<00:00,  5.07it/s, loss=0.829, acc=85.1]\n",
            "Evaluating: 100%|██████████| 79/79 [00:04<00:00, 15.82it/s]\n"
          ]
        },
        {
          "output_type": "stream",
          "name": "stdout",
          "text": [
            "Train Loss: 0.8293, Train Acc: 85.07%\n",
            "Test Loss: 0.7921, Test Acc: 88.13%\n",
            "✓ Best model saved! (Acc: 88.13%)\n",
            "\n",
            "Epoch 113/200\n"
          ]
        },
        {
          "output_type": "stream",
          "name": "stderr",
          "text": [
            "Training: 100%|██████████| 391/391 [01:17<00:00,  5.08it/s, loss=0.829, acc=85.1]\n",
            "Evaluating: 100%|██████████| 79/79 [00:05<00:00, 15.57it/s]\n"
          ]
        },
        {
          "output_type": "stream",
          "name": "stdout",
          "text": [
            "Train Loss: 0.8288, Train Acc: 85.13%\n",
            "Test Loss: 0.7946, Test Acc: 88.10%\n",
            "\n",
            "Epoch 114/200\n"
          ]
        },
        {
          "output_type": "stream",
          "name": "stderr",
          "text": [
            "Training: 100%|██████████| 391/391 [01:17<00:00,  5.06it/s, loss=0.822, acc=85.5]\n",
            "Evaluating: 100%|██████████| 79/79 [00:05<00:00, 15.42it/s]\n"
          ]
        },
        {
          "output_type": "stream",
          "name": "stdout",
          "text": [
            "Train Loss: 0.8219, Train Acc: 85.52%\n",
            "Test Loss: 0.8022, Test Acc: 87.82%\n",
            "\n",
            "Epoch 115/200\n"
          ]
        },
        {
          "output_type": "stream",
          "name": "stderr",
          "text": [
            "Training: 100%|██████████| 391/391 [01:16<00:00,  5.09it/s, loss=0.82, acc=85.6]\n",
            "Evaluating: 100%|██████████| 79/79 [00:04<00:00, 15.83it/s]\n"
          ]
        },
        {
          "output_type": "stream",
          "name": "stdout",
          "text": [
            "Train Loss: 0.8203, Train Acc: 85.63%\n",
            "Test Loss: 0.7876, Test Acc: 88.33%\n",
            "✓ Best model saved! (Acc: 88.33%)\n",
            "\n",
            "Epoch 116/200\n"
          ]
        },
        {
          "output_type": "stream",
          "name": "stderr",
          "text": [
            "Training: 100%|██████████| 391/391 [01:17<00:00,  5.07it/s, loss=0.821, acc=85.5]\n",
            "Evaluating: 100%|██████████| 79/79 [00:04<00:00, 15.91it/s]\n"
          ]
        },
        {
          "output_type": "stream",
          "name": "stdout",
          "text": [
            "Train Loss: 0.8209, Train Acc: 85.53%\n",
            "Test Loss: 0.8038, Test Acc: 87.53%\n",
            "\n",
            "Epoch 117/200\n"
          ]
        },
        {
          "output_type": "stream",
          "name": "stderr",
          "text": [
            "Training: 100%|██████████| 391/391 [01:17<00:00,  5.07it/s, loss=0.819, acc=85.5]\n",
            "Evaluating: 100%|██████████| 79/79 [00:05<00:00, 15.49it/s]\n"
          ]
        },
        {
          "output_type": "stream",
          "name": "stdout",
          "text": [
            "Train Loss: 0.8189, Train Acc: 85.49%\n",
            "Test Loss: 0.7942, Test Acc: 88.56%\n",
            "✓ Best model saved! (Acc: 88.56%)\n",
            "\n",
            "Epoch 118/200\n"
          ]
        },
        {
          "output_type": "stream",
          "name": "stderr",
          "text": [
            "Training: 100%|██████████| 391/391 [01:17<00:00,  5.06it/s, loss=0.815, acc=85.8]\n",
            "Evaluating: 100%|██████████| 79/79 [00:05<00:00, 15.62it/s]\n"
          ]
        },
        {
          "output_type": "stream",
          "name": "stdout",
          "text": [
            "Train Loss: 0.8151, Train Acc: 85.81%\n",
            "Test Loss: 0.7921, Test Acc: 88.03%\n",
            "\n",
            "Epoch 119/200\n"
          ]
        },
        {
          "output_type": "stream",
          "name": "stderr",
          "text": [
            "Training: 100%|██████████| 391/391 [01:17<00:00,  5.07it/s, loss=0.811, acc=86.1]\n",
            "Evaluating: 100%|██████████| 79/79 [00:05<00:00, 15.76it/s]\n"
          ]
        },
        {
          "output_type": "stream",
          "name": "stdout",
          "text": [
            "Train Loss: 0.8112, Train Acc: 86.10%\n",
            "Test Loss: 0.8090, Test Acc: 87.58%\n",
            "\n",
            "Epoch 120/200\n"
          ]
        },
        {
          "output_type": "stream",
          "name": "stderr",
          "text": [
            "Training: 100%|██████████| 391/391 [01:16<00:00,  5.08it/s, loss=0.806, acc=86.2]\n",
            "Evaluating: 100%|██████████| 79/79 [00:04<00:00, 15.89it/s]\n"
          ]
        },
        {
          "output_type": "stream",
          "name": "stdout",
          "text": [
            "Train Loss: 0.8061, Train Acc: 86.23%\n",
            "Test Loss: 0.7994, Test Acc: 88.36%\n",
            "\n",
            "Epoch 121/200\n"
          ]
        },
        {
          "output_type": "stream",
          "name": "stderr",
          "text": [
            "Training: 100%|██████████| 391/391 [01:17<00:00,  5.07it/s, loss=0.803, acc=86.2]\n",
            "Evaluating: 100%|██████████| 79/79 [00:05<00:00, 15.49it/s]\n"
          ]
        },
        {
          "output_type": "stream",
          "name": "stdout",
          "text": [
            "Train Loss: 0.8030, Train Acc: 86.25%\n",
            "Test Loss: 0.7951, Test Acc: 88.31%\n",
            "\n",
            "Epoch 122/200\n"
          ]
        },
        {
          "output_type": "stream",
          "name": "stderr",
          "text": [
            "Training: 100%|██████████| 391/391 [01:17<00:00,  5.05it/s, loss=0.8, acc=86.5]\n",
            "Evaluating: 100%|██████████| 79/79 [00:05<00:00, 15.57it/s]\n"
          ]
        },
        {
          "output_type": "stream",
          "name": "stdout",
          "text": [
            "Train Loss: 0.7999, Train Acc: 86.50%\n",
            "Test Loss: 0.7965, Test Acc: 88.30%\n",
            "\n",
            "Epoch 123/200\n"
          ]
        },
        {
          "output_type": "stream",
          "name": "stderr",
          "text": [
            "Training: 100%|██████████| 391/391 [01:16<00:00,  5.08it/s, loss=0.801, acc=86.5]\n",
            "Evaluating: 100%|██████████| 79/79 [00:04<00:00, 15.86it/s]\n"
          ]
        },
        {
          "output_type": "stream",
          "name": "stdout",
          "text": [
            "Train Loss: 0.8010, Train Acc: 86.49%\n",
            "Test Loss: 0.8049, Test Acc: 87.97%\n",
            "\n",
            "Epoch 124/200\n"
          ]
        },
        {
          "output_type": "stream",
          "name": "stderr",
          "text": [
            "Training: 100%|██████████| 391/391 [01:17<00:00,  5.07it/s, loss=0.795, acc=86.8]\n",
            "Evaluating: 100%|██████████| 79/79 [00:05<00:00, 15.39it/s]\n"
          ]
        },
        {
          "output_type": "stream",
          "name": "stdout",
          "text": [
            "Train Loss: 0.7947, Train Acc: 86.79%\n",
            "Test Loss: 0.8003, Test Acc: 88.41%\n",
            "\n",
            "Epoch 125/200\n"
          ]
        },
        {
          "output_type": "stream",
          "name": "stderr",
          "text": [
            "Training: 100%|██████████| 391/391 [01:17<00:00,  5.07it/s, loss=0.794, acc=86.8]\n",
            "Evaluating: 100%|██████████| 79/79 [00:05<00:00, 15.71it/s]\n"
          ]
        },
        {
          "output_type": "stream",
          "name": "stdout",
          "text": [
            "Train Loss: 0.7938, Train Acc: 86.78%\n",
            "Test Loss: 0.7927, Test Acc: 88.50%\n",
            "\n",
            "Epoch 126/200\n"
          ]
        },
        {
          "output_type": "stream",
          "name": "stderr",
          "text": [
            "Training: 100%|██████████| 391/391 [01:17<00:00,  5.07it/s, loss=0.799, acc=86.5]\n",
            "Evaluating: 100%|██████████| 79/79 [00:05<00:00, 15.44it/s]\n"
          ]
        },
        {
          "output_type": "stream",
          "name": "stdout",
          "text": [
            "Train Loss: 0.7989, Train Acc: 86.54%\n",
            "Test Loss: 0.7936, Test Acc: 88.31%\n",
            "\n",
            "Epoch 127/200\n"
          ]
        },
        {
          "output_type": "stream",
          "name": "stderr",
          "text": [
            "Training: 100%|██████████| 391/391 [01:16<00:00,  5.08it/s, loss=0.792, acc=86.8]\n",
            "Evaluating: 100%|██████████| 79/79 [00:04<00:00, 15.93it/s]\n"
          ]
        },
        {
          "output_type": "stream",
          "name": "stdout",
          "text": [
            "Train Loss: 0.7921, Train Acc: 86.81%\n",
            "Test Loss: 0.8023, Test Acc: 88.26%\n",
            "\n",
            "Epoch 128/200\n"
          ]
        },
        {
          "output_type": "stream",
          "name": "stderr",
          "text": [
            "Training: 100%|██████████| 391/391 [01:16<00:00,  5.09it/s, loss=0.785, acc=87.1]\n",
            "Evaluating: 100%|██████████| 79/79 [00:04<00:00, 15.90it/s]\n"
          ]
        },
        {
          "output_type": "stream",
          "name": "stdout",
          "text": [
            "Train Loss: 0.7854, Train Acc: 87.07%\n",
            "Test Loss: 0.7973, Test Acc: 88.34%\n",
            "\n",
            "Epoch 129/200\n"
          ]
        },
        {
          "output_type": "stream",
          "name": "stderr",
          "text": [
            "Training: 100%|██████████| 391/391 [01:16<00:00,  5.10it/s, loss=0.786, acc=87.1]\n",
            "Evaluating: 100%|██████████| 79/79 [00:05<00:00, 15.73it/s]\n"
          ]
        },
        {
          "output_type": "stream",
          "name": "stdout",
          "text": [
            "Train Loss: 0.7857, Train Acc: 87.07%\n",
            "Test Loss: 0.7880, Test Acc: 88.75%\n",
            "✓ Best model saved! (Acc: 88.75%)\n",
            "\n",
            "Epoch 130/200\n"
          ]
        },
        {
          "output_type": "stream",
          "name": "stderr",
          "text": [
            "Training: 100%|██████████| 391/391 [01:16<00:00,  5.09it/s, loss=0.782, acc=87.2]\n",
            "Evaluating: 100%|██████████| 79/79 [00:04<00:00, 15.86it/s]\n"
          ]
        },
        {
          "output_type": "stream",
          "name": "stdout",
          "text": [
            "Train Loss: 0.7824, Train Acc: 87.21%\n",
            "Test Loss: 0.7944, Test Acc: 88.66%\n",
            "\n",
            "Epoch 131/200\n"
          ]
        },
        {
          "output_type": "stream",
          "name": "stderr",
          "text": [
            "Training: 100%|██████████| 391/391 [01:16<00:00,  5.08it/s, loss=0.778, acc=87.4]\n",
            "Evaluating: 100%|██████████| 79/79 [00:04<00:00, 15.84it/s]\n"
          ]
        },
        {
          "output_type": "stream",
          "name": "stdout",
          "text": [
            "Train Loss: 0.7782, Train Acc: 87.38%\n",
            "Test Loss: 0.8081, Test Acc: 88.22%\n",
            "\n",
            "Epoch 132/200\n"
          ]
        },
        {
          "output_type": "stream",
          "name": "stderr",
          "text": [
            "Training: 100%|██████████| 391/391 [01:16<00:00,  5.08it/s, loss=0.777, acc=87.7]\n",
            "Evaluating: 100%|██████████| 79/79 [00:05<00:00, 15.78it/s]\n"
          ]
        },
        {
          "output_type": "stream",
          "name": "stdout",
          "text": [
            "Train Loss: 0.7768, Train Acc: 87.70%\n",
            "Test Loss: 0.7887, Test Acc: 88.67%\n",
            "\n",
            "Epoch 133/200\n"
          ]
        },
        {
          "output_type": "stream",
          "name": "stderr",
          "text": [
            "Training: 100%|██████████| 391/391 [01:16<00:00,  5.09it/s, loss=0.775, acc=87.8]\n",
            "Evaluating: 100%|██████████| 79/79 [00:05<00:00, 15.63it/s]\n"
          ]
        },
        {
          "output_type": "stream",
          "name": "stdout",
          "text": [
            "Train Loss: 0.7751, Train Acc: 87.75%\n",
            "Test Loss: 0.7830, Test Acc: 88.96%\n",
            "✓ Best model saved! (Acc: 88.96%)\n",
            "\n",
            "Epoch 134/200\n"
          ]
        },
        {
          "output_type": "stream",
          "name": "stderr",
          "text": [
            "Training: 100%|██████████| 391/391 [01:16<00:00,  5.08it/s, loss=0.774, acc=87.6]\n",
            "Evaluating: 100%|██████████| 79/79 [00:04<00:00, 15.94it/s]\n"
          ]
        },
        {
          "output_type": "stream",
          "name": "stdout",
          "text": [
            "Train Loss: 0.7736, Train Acc: 87.63%\n",
            "Test Loss: 0.7928, Test Acc: 88.53%\n",
            "\n",
            "Epoch 135/200\n"
          ]
        },
        {
          "output_type": "stream",
          "name": "stderr",
          "text": [
            "Training: 100%|██████████| 391/391 [01:16<00:00,  5.09it/s, loss=0.775, acc=87.7]\n",
            "Evaluating: 100%|██████████| 79/79 [00:05<00:00, 15.74it/s]\n"
          ]
        },
        {
          "output_type": "stream",
          "name": "stdout",
          "text": [
            "Train Loss: 0.7750, Train Acc: 87.65%\n",
            "Test Loss: 0.7896, Test Acc: 88.76%\n",
            "\n",
            "Epoch 136/200\n"
          ]
        },
        {
          "output_type": "stream",
          "name": "stderr",
          "text": [
            "Training: 100%|██████████| 391/391 [01:17<00:00,  5.07it/s, loss=0.77, acc=87.8]\n",
            "Evaluating: 100%|██████████| 79/79 [00:05<00:00, 15.54it/s]\n"
          ]
        },
        {
          "output_type": "stream",
          "name": "stdout",
          "text": [
            "Train Loss: 0.7695, Train Acc: 87.84%\n",
            "Test Loss: 0.7944, Test Acc: 88.66%\n",
            "\n",
            "Epoch 137/200\n"
          ]
        },
        {
          "output_type": "stream",
          "name": "stderr",
          "text": [
            "Training: 100%|██████████| 391/391 [01:16<00:00,  5.08it/s, loss=0.763, acc=88.2]\n",
            "Evaluating: 100%|██████████| 79/79 [00:04<00:00, 15.86it/s]\n"
          ]
        },
        {
          "output_type": "stream",
          "name": "stdout",
          "text": [
            "Train Loss: 0.7633, Train Acc: 88.23%\n",
            "Test Loss: 0.7944, Test Acc: 88.73%\n",
            "\n",
            "Epoch 138/200\n"
          ]
        },
        {
          "output_type": "stream",
          "name": "stderr",
          "text": [
            "Training: 100%|██████████| 391/391 [01:17<00:00,  5.08it/s, loss=0.766, acc=88]\n",
            "Evaluating: 100%|██████████| 79/79 [00:05<00:00, 15.80it/s]\n"
          ]
        },
        {
          "output_type": "stream",
          "name": "stdout",
          "text": [
            "Train Loss: 0.7658, Train Acc: 88.04%\n",
            "Test Loss: 0.8052, Test Acc: 88.41%\n",
            "\n",
            "Epoch 139/200\n"
          ]
        },
        {
          "output_type": "stream",
          "name": "stderr",
          "text": [
            "Training: 100%|██████████| 391/391 [01:17<00:00,  5.07it/s, loss=0.765, acc=87.8]\n",
            "Evaluating: 100%|██████████| 79/79 [00:05<00:00, 15.54it/s]\n"
          ]
        },
        {
          "output_type": "stream",
          "name": "stdout",
          "text": [
            "Train Loss: 0.7653, Train Acc: 87.81%\n",
            "Test Loss: 0.7972, Test Acc: 88.78%\n",
            "\n",
            "Epoch 140/200\n"
          ]
        },
        {
          "output_type": "stream",
          "name": "stderr",
          "text": [
            "Training: 100%|██████████| 391/391 [01:17<00:00,  5.07it/s, loss=0.76, acc=88.3]\n",
            "Evaluating: 100%|██████████| 79/79 [00:04<00:00, 15.94it/s]\n"
          ]
        },
        {
          "output_type": "stream",
          "name": "stdout",
          "text": [
            "Train Loss: 0.7601, Train Acc: 88.31%\n",
            "Test Loss: 0.7869, Test Acc: 89.00%\n",
            "✓ Best model saved! (Acc: 89.00%)\n",
            "\n",
            "Epoch 141/200\n"
          ]
        },
        {
          "output_type": "stream",
          "name": "stderr",
          "text": [
            "Training: 100%|██████████| 391/391 [01:16<00:00,  5.09it/s, loss=0.761, acc=88.2]\n",
            "Evaluating: 100%|██████████| 79/79 [00:04<00:00, 15.82it/s]\n"
          ]
        },
        {
          "output_type": "stream",
          "name": "stdout",
          "text": [
            "Train Loss: 0.7613, Train Acc: 88.22%\n",
            "Test Loss: 0.7909, Test Acc: 88.75%\n",
            "\n",
            "Epoch 142/200\n"
          ]
        },
        {
          "output_type": "stream",
          "name": "stderr",
          "text": [
            "Training: 100%|██████████| 391/391 [01:16<00:00,  5.08it/s, loss=0.754, acc=88.7]\n",
            "Evaluating: 100%|██████████| 79/79 [00:05<00:00, 15.75it/s]\n"
          ]
        },
        {
          "output_type": "stream",
          "name": "stdout",
          "text": [
            "Train Loss: 0.7537, Train Acc: 88.72%\n",
            "Test Loss: 0.7936, Test Acc: 88.87%\n",
            "\n",
            "Epoch 143/200\n"
          ]
        },
        {
          "output_type": "stream",
          "name": "stderr",
          "text": [
            "Training: 100%|██████████| 391/391 [01:16<00:00,  5.11it/s, loss=0.753, acc=88.5]\n",
            "Evaluating: 100%|██████████| 79/79 [00:04<00:00, 15.96it/s]\n"
          ]
        },
        {
          "output_type": "stream",
          "name": "stdout",
          "text": [
            "Train Loss: 0.7532, Train Acc: 88.45%\n",
            "Test Loss: 0.8075, Test Acc: 88.36%\n",
            "\n",
            "Epoch 144/200\n"
          ]
        },
        {
          "output_type": "stream",
          "name": "stderr",
          "text": [
            "Training: 100%|██████████| 391/391 [01:16<00:00,  5.10it/s, loss=0.754, acc=88.6]\n",
            "Evaluating: 100%|██████████| 79/79 [00:04<00:00, 15.88it/s]\n"
          ]
        },
        {
          "output_type": "stream",
          "name": "stdout",
          "text": [
            "Train Loss: 0.7540, Train Acc: 88.56%\n",
            "Test Loss: 0.8050, Test Acc: 88.43%\n",
            "\n",
            "Epoch 145/200\n"
          ]
        },
        {
          "output_type": "stream",
          "name": "stderr",
          "text": [
            "Training: 100%|██████████| 391/391 [01:16<00:00,  5.08it/s, loss=0.751, acc=88.7]\n",
            "Evaluating: 100%|██████████| 79/79 [00:05<00:00, 15.72it/s]\n"
          ]
        },
        {
          "output_type": "stream",
          "name": "stdout",
          "text": [
            "Train Loss: 0.7512, Train Acc: 88.65%\n",
            "Test Loss: 0.7895, Test Acc: 89.12%\n",
            "✓ Best model saved! (Acc: 89.12%)\n",
            "\n",
            "Epoch 146/200\n"
          ]
        },
        {
          "output_type": "stream",
          "name": "stderr",
          "text": [
            "Training: 100%|██████████| 391/391 [01:16<00:00,  5.09it/s, loss=0.747, acc=88.9]\n",
            "Evaluating: 100%|██████████| 79/79 [00:05<00:00, 15.61it/s]\n"
          ]
        },
        {
          "output_type": "stream",
          "name": "stdout",
          "text": [
            "Train Loss: 0.7474, Train Acc: 88.86%\n",
            "Test Loss: 0.7977, Test Acc: 88.91%\n",
            "\n",
            "Epoch 147/200\n"
          ]
        },
        {
          "output_type": "stream",
          "name": "stderr",
          "text": [
            "Training: 100%|██████████| 391/391 [01:16<00:00,  5.09it/s, loss=0.745, acc=89]\n",
            "Evaluating: 100%|██████████| 79/79 [00:04<00:00, 15.93it/s]\n"
          ]
        },
        {
          "output_type": "stream",
          "name": "stdout",
          "text": [
            "Train Loss: 0.7452, Train Acc: 88.99%\n",
            "Test Loss: 0.7868, Test Acc: 89.06%\n",
            "\n",
            "Epoch 148/200\n"
          ]
        },
        {
          "output_type": "stream",
          "name": "stderr",
          "text": [
            "Training: 100%|██████████| 391/391 [01:16<00:00,  5.09it/s, loss=0.748, acc=88.8]\n",
            "Evaluating: 100%|██████████| 79/79 [00:05<00:00, 15.76it/s]\n"
          ]
        },
        {
          "output_type": "stream",
          "name": "stdout",
          "text": [
            "Train Loss: 0.7481, Train Acc: 88.80%\n",
            "Test Loss: 0.7943, Test Acc: 88.91%\n",
            "\n",
            "Epoch 149/200\n"
          ]
        },
        {
          "output_type": "stream",
          "name": "stderr",
          "text": [
            "Training: 100%|██████████| 391/391 [01:16<00:00,  5.10it/s, loss=0.741, acc=89.1]\n",
            "Evaluating: 100%|██████████| 79/79 [00:05<00:00, 15.59it/s]\n"
          ]
        },
        {
          "output_type": "stream",
          "name": "stdout",
          "text": [
            "Train Loss: 0.7415, Train Acc: 89.10%\n",
            "Test Loss: 0.7994, Test Acc: 88.80%\n",
            "\n",
            "Epoch 150/200\n"
          ]
        },
        {
          "output_type": "stream",
          "name": "stderr",
          "text": [
            "Training: 100%|██████████| 391/391 [01:16<00:00,  5.09it/s, loss=0.742, acc=89.1]\n",
            "Evaluating: 100%|██████████| 79/79 [00:04<00:00, 15.95it/s]\n"
          ]
        },
        {
          "output_type": "stream",
          "name": "stdout",
          "text": [
            "Train Loss: 0.7416, Train Acc: 89.12%\n",
            "Test Loss: 0.8001, Test Acc: 88.77%\n",
            "\n",
            "Epoch 151/200\n"
          ]
        },
        {
          "output_type": "stream",
          "name": "stderr",
          "text": [
            "Training: 100%|██████████| 391/391 [01:16<00:00,  5.09it/s, loss=0.743, acc=89.2]\n",
            "Evaluating: 100%|██████████| 79/79 [00:04<00:00, 15.87it/s]\n"
          ]
        },
        {
          "output_type": "stream",
          "name": "stdout",
          "text": [
            "Train Loss: 0.7425, Train Acc: 89.24%\n",
            "Test Loss: 0.8037, Test Acc: 88.55%\n",
            "\n",
            "Epoch 152/200\n"
          ]
        },
        {
          "output_type": "stream",
          "name": "stderr",
          "text": [
            "Training: 100%|██████████| 391/391 [01:16<00:00,  5.08it/s, loss=0.74, acc=89.2]\n",
            "Evaluating: 100%|██████████| 79/79 [00:04<00:00, 15.83it/s]\n"
          ]
        },
        {
          "output_type": "stream",
          "name": "stdout",
          "text": [
            "Train Loss: 0.7398, Train Acc: 89.18%\n",
            "Test Loss: 0.7853, Test Acc: 89.10%\n",
            "\n",
            "Epoch 153/200\n"
          ]
        },
        {
          "output_type": "stream",
          "name": "stderr",
          "text": [
            "Training: 100%|██████████| 391/391 [01:16<00:00,  5.10it/s, loss=0.739, acc=89.2]\n",
            "Evaluating: 100%|██████████| 79/79 [00:04<00:00, 15.84it/s]\n"
          ]
        },
        {
          "output_type": "stream",
          "name": "stdout",
          "text": [
            "Train Loss: 0.7395, Train Acc: 89.25%\n",
            "Test Loss: 0.7880, Test Acc: 89.26%\n",
            "✓ Best model saved! (Acc: 89.26%)\n",
            "\n",
            "Epoch 154/200\n"
          ]
        },
        {
          "output_type": "stream",
          "name": "stderr",
          "text": [
            "Training: 100%|██████████| 391/391 [01:16<00:00,  5.10it/s, loss=0.735, acc=89.4]\n",
            "Evaluating: 100%|██████████| 79/79 [00:05<00:00, 15.78it/s]\n"
          ]
        },
        {
          "output_type": "stream",
          "name": "stdout",
          "text": [
            "Train Loss: 0.7350, Train Acc: 89.37%\n",
            "Test Loss: 0.7863, Test Acc: 89.20%\n",
            "\n",
            "Epoch 155/200\n"
          ]
        },
        {
          "output_type": "stream",
          "name": "stderr",
          "text": [
            "Training: 100%|██████████| 391/391 [01:16<00:00,  5.09it/s, loss=0.732, acc=89.5]\n",
            "Evaluating: 100%|██████████| 79/79 [00:05<00:00, 15.69it/s]\n"
          ]
        },
        {
          "output_type": "stream",
          "name": "stdout",
          "text": [
            "Train Loss: 0.7325, Train Acc: 89.55%\n",
            "Test Loss: 0.7933, Test Acc: 89.05%\n",
            "\n",
            "Epoch 156/200\n"
          ]
        },
        {
          "output_type": "stream",
          "name": "stderr",
          "text": [
            "Training: 100%|██████████| 391/391 [01:16<00:00,  5.09it/s, loss=0.737, acc=89.4]\n",
            "Evaluating: 100%|██████████| 79/79 [00:05<00:00, 15.60it/s]\n"
          ]
        },
        {
          "output_type": "stream",
          "name": "stdout",
          "text": [
            "Train Loss: 0.7366, Train Acc: 89.45%\n",
            "Test Loss: 0.7818, Test Acc: 89.33%\n",
            "✓ Best model saved! (Acc: 89.33%)\n",
            "\n",
            "Epoch 157/200\n"
          ]
        },
        {
          "output_type": "stream",
          "name": "stderr",
          "text": [
            "Training: 100%|██████████| 391/391 [01:16<00:00,  5.09it/s, loss=0.73, acc=89.7]\n",
            "Evaluating: 100%|██████████| 79/79 [00:04<00:00, 15.91it/s]\n"
          ]
        },
        {
          "output_type": "stream",
          "name": "stdout",
          "text": [
            "Train Loss: 0.7299, Train Acc: 89.66%\n",
            "Test Loss: 0.7920, Test Acc: 89.23%\n",
            "\n",
            "Epoch 158/200\n"
          ]
        },
        {
          "output_type": "stream",
          "name": "stderr",
          "text": [
            "Training: 100%|██████████| 391/391 [01:16<00:00,  5.09it/s, loss=0.732, acc=89.6]\n",
            "Evaluating: 100%|██████████| 79/79 [00:05<00:00, 15.68it/s]\n"
          ]
        },
        {
          "output_type": "stream",
          "name": "stdout",
          "text": [
            "Train Loss: 0.7318, Train Acc: 89.57%\n",
            "Test Loss: 0.7823, Test Acc: 89.39%\n",
            "✓ Best model saved! (Acc: 89.39%)\n",
            "\n",
            "Epoch 159/200\n"
          ]
        },
        {
          "output_type": "stream",
          "name": "stderr",
          "text": [
            "Training:  33%|███▎      | 129/391 [00:25<00:52,  5.01it/s, loss=0.731, acc=89.6]"
          ]
        }
      ]
    },
    {
      "cell_type": "code",
      "source": [],
      "metadata": {
        "id": "iSA-tEOgKl3r"
      },
      "execution_count": null,
      "outputs": []
    }
  ]
}